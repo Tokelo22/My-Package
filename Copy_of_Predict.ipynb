{
  "nbformat": 4,
  "nbformat_minor": 0,
  "metadata": {
    "colab": {
      "name": "Copy of Predict.ipynb",
      "provenance": [],
      "authorship_tag": "ABX9TyPKeZN8qbMB+mv8syTzCkoS",
      "include_colab_link": true
    },
    "kernelspec": {
      "name": "python3",
      "display_name": "Python 3"
    }
  },
  "cells": [
    {
      "cell_type": "markdown",
      "metadata": {
        "id": "view-in-github",
        "colab_type": "text"
      },
      "source": [
        "<a href=\"https://colab.research.google.com/github/Tokelo22/My-Package/blob/master/Copy_of_Predict.ipynb\" target=\"_parent\"><img src=\"https://colab.research.google.com/assets/colab-badge.svg\" alt=\"Open In Colab\"/></a>"
      ]
    },
    {
      "cell_type": "markdown",
      "metadata": {
        "id": "AKN6DjlDwO6n",
        "colab_type": "text"
      },
      "source": [
        "#EDSA: Sendy Logistics Challenge"
      ]
    },
    {
      "cell_type": "markdown",
      "metadata": {
        "id": "53MsxdGwwtTx",
        "colab_type": "text"
      },
      "source": [
        "##Introduction\n",
        "\n",
        "---\n",
        "\n"
      ]
    },
    {
      "cell_type": "markdown",
      "metadata": {
        "id": "_QhIRtu0w-li",
        "colab_type": "text"
      },
      "source": [
        "In this project....................."
      ]
    },
    {
      "cell_type": "markdown",
      "metadata": {
        "id": "Dfq8AP7UxDb0",
        "colab_type": "text"
      },
      "source": [
        "##Import Libraries\n",
        "\n",
        "---\n",
        "\n"
      ]
    },
    {
      "cell_type": "code",
      "metadata": {
        "id": "oalLrFtflzxz",
        "colab_type": "code",
        "colab": {}
      },
      "source": [
        "import numpy as np\n",
        "import pandas as pd\n",
        "import seaborn as sns\n",
        "import matplotlib.pyplot as plt\n",
        "\n",
        "\n",
        "from sklearn import preprocessing\n",
        "from sklearn.metrics import mean_squared_error as mse\n",
        "from sklearn.model_selection import train_test_split\n",
        "from sklearn.preprocessing import StandardScaler\n",
        "\n",
        "from sklearn.ensemble import GradientBoostingRegressor\n",
        "from sklearn.linear_model import LinearRegression\n",
        "from sklearn.tree import DecisionTreeRegressor\n",
        "from sklearn.ensemble import RandomForestRegressor\n",
        "from sklearn.ensemble import StackingRegressor\n",
        "import xgboost as xgb\n"
      ],
      "execution_count": 8,
      "outputs": []
    },
    {
      "cell_type": "markdown",
      "metadata": {
        "id": "ZTs2g0E3xJre",
        "colab_type": "text"
      },
      "source": [
        "##Import datasets\n",
        "\n",
        "---\n",
        "\n"
      ]
    },
    {
      "cell_type": "code",
      "metadata": {
        "id": "OgclUjs5mAtM",
        "colab_type": "code",
        "colab": {}
      },
      "source": [
        "train = pd.read_csv('Train.csv')\n",
        "test = pd.read_csv('Test.csv')\n",
        "riders = pd.read_csv('Riders.csv')\n",
        "samplesubmission = pd.read_csv('SampleSubmission.csv')\n"
      ],
      "execution_count": 9,
      "outputs": []
    },
    {
      "cell_type": "markdown",
      "metadata": {
        "id": "e38I95EQxiKi",
        "colab_type": "text"
      },
      "source": [
        "##Exploratory Data Analysis\n",
        "\n",
        "---\n",
        "\n"
      ]
    },
    {
      "cell_type": "code",
      "metadata": {
        "id": "c_np-jB9nJ-o",
        "colab_type": "code",
        "colab": {
          "base_uri": "https://localhost:8080/",
          "height": 413
        },
        "outputId": "fda53cf7-ad36-4034-d258-520a90cac3d5"
      },
      "source": [
        "train.head()"
      ],
      "execution_count": 10,
      "outputs": [
        {
          "output_type": "execute_result",
          "data": {
            "text/html": [
              "<div>\n",
              "<style scoped>\n",
              "    .dataframe tbody tr th:only-of-type {\n",
              "        vertical-align: middle;\n",
              "    }\n",
              "\n",
              "    .dataframe tbody tr th {\n",
              "        vertical-align: top;\n",
              "    }\n",
              "\n",
              "    .dataframe thead th {\n",
              "        text-align: right;\n",
              "    }\n",
              "</style>\n",
              "<table border=\"1\" class=\"dataframe\">\n",
              "  <thead>\n",
              "    <tr style=\"text-align: right;\">\n",
              "      <th></th>\n",
              "      <th>Order No</th>\n",
              "      <th>User Id</th>\n",
              "      <th>Vehicle Type</th>\n",
              "      <th>Platform Type</th>\n",
              "      <th>Personal or Business</th>\n",
              "      <th>Placement - Day of Month</th>\n",
              "      <th>Placement - Weekday (Mo = 1)</th>\n",
              "      <th>Placement - Time</th>\n",
              "      <th>Confirmation - Day of Month</th>\n",
              "      <th>Confirmation - Weekday (Mo = 1)</th>\n",
              "      <th>Confirmation - Time</th>\n",
              "      <th>Arrival at Pickup - Day of Month</th>\n",
              "      <th>Arrival at Pickup - Weekday (Mo = 1)</th>\n",
              "      <th>Arrival at Pickup - Time</th>\n",
              "      <th>Pickup - Day of Month</th>\n",
              "      <th>Pickup - Weekday (Mo = 1)</th>\n",
              "      <th>Pickup - Time</th>\n",
              "      <th>Arrival at Destination - Day of Month</th>\n",
              "      <th>Arrival at Destination - Weekday (Mo = 1)</th>\n",
              "      <th>Arrival at Destination - Time</th>\n",
              "      <th>Distance (KM)</th>\n",
              "      <th>Temperature</th>\n",
              "      <th>Precipitation in millimeters</th>\n",
              "      <th>Pickup Lat</th>\n",
              "      <th>Pickup Long</th>\n",
              "      <th>Destination Lat</th>\n",
              "      <th>Destination Long</th>\n",
              "      <th>Rider Id</th>\n",
              "      <th>Time from Pickup to Arrival</th>\n",
              "    </tr>\n",
              "  </thead>\n",
              "  <tbody>\n",
              "    <tr>\n",
              "      <th>0</th>\n",
              "      <td>Order_No_4211</td>\n",
              "      <td>User_Id_633</td>\n",
              "      <td>Bike</td>\n",
              "      <td>3</td>\n",
              "      <td>Business</td>\n",
              "      <td>9</td>\n",
              "      <td>5</td>\n",
              "      <td>9:35:46 AM</td>\n",
              "      <td>9</td>\n",
              "      <td>5</td>\n",
              "      <td>9:40:10 AM</td>\n",
              "      <td>9</td>\n",
              "      <td>5</td>\n",
              "      <td>10:04:47 AM</td>\n",
              "      <td>9</td>\n",
              "      <td>5</td>\n",
              "      <td>10:27:30 AM</td>\n",
              "      <td>9</td>\n",
              "      <td>5</td>\n",
              "      <td>10:39:55 AM</td>\n",
              "      <td>4</td>\n",
              "      <td>20.4</td>\n",
              "      <td>NaN</td>\n",
              "      <td>-1.317755</td>\n",
              "      <td>36.830370</td>\n",
              "      <td>-1.300406</td>\n",
              "      <td>36.829741</td>\n",
              "      <td>Rider_Id_432</td>\n",
              "      <td>745</td>\n",
              "    </tr>\n",
              "    <tr>\n",
              "      <th>1</th>\n",
              "      <td>Order_No_25375</td>\n",
              "      <td>User_Id_2285</td>\n",
              "      <td>Bike</td>\n",
              "      <td>3</td>\n",
              "      <td>Personal</td>\n",
              "      <td>12</td>\n",
              "      <td>5</td>\n",
              "      <td>11:16:16 AM</td>\n",
              "      <td>12</td>\n",
              "      <td>5</td>\n",
              "      <td>11:23:21 AM</td>\n",
              "      <td>12</td>\n",
              "      <td>5</td>\n",
              "      <td>11:40:22 AM</td>\n",
              "      <td>12</td>\n",
              "      <td>5</td>\n",
              "      <td>11:44:09 AM</td>\n",
              "      <td>12</td>\n",
              "      <td>5</td>\n",
              "      <td>12:17:22 PM</td>\n",
              "      <td>16</td>\n",
              "      <td>26.4</td>\n",
              "      <td>NaN</td>\n",
              "      <td>-1.351453</td>\n",
              "      <td>36.899315</td>\n",
              "      <td>-1.295004</td>\n",
              "      <td>36.814358</td>\n",
              "      <td>Rider_Id_856</td>\n",
              "      <td>1993</td>\n",
              "    </tr>\n",
              "    <tr>\n",
              "      <th>2</th>\n",
              "      <td>Order_No_1899</td>\n",
              "      <td>User_Id_265</td>\n",
              "      <td>Bike</td>\n",
              "      <td>3</td>\n",
              "      <td>Business</td>\n",
              "      <td>30</td>\n",
              "      <td>2</td>\n",
              "      <td>12:39:25 PM</td>\n",
              "      <td>30</td>\n",
              "      <td>2</td>\n",
              "      <td>12:42:44 PM</td>\n",
              "      <td>30</td>\n",
              "      <td>2</td>\n",
              "      <td>12:49:34 PM</td>\n",
              "      <td>30</td>\n",
              "      <td>2</td>\n",
              "      <td>12:53:03 PM</td>\n",
              "      <td>30</td>\n",
              "      <td>2</td>\n",
              "      <td>1:00:38 PM</td>\n",
              "      <td>3</td>\n",
              "      <td>NaN</td>\n",
              "      <td>NaN</td>\n",
              "      <td>-1.308284</td>\n",
              "      <td>36.843419</td>\n",
              "      <td>-1.300921</td>\n",
              "      <td>36.828195</td>\n",
              "      <td>Rider_Id_155</td>\n",
              "      <td>455</td>\n",
              "    </tr>\n",
              "    <tr>\n",
              "      <th>3</th>\n",
              "      <td>Order_No_9336</td>\n",
              "      <td>User_Id_1402</td>\n",
              "      <td>Bike</td>\n",
              "      <td>3</td>\n",
              "      <td>Business</td>\n",
              "      <td>15</td>\n",
              "      <td>5</td>\n",
              "      <td>9:25:34 AM</td>\n",
              "      <td>15</td>\n",
              "      <td>5</td>\n",
              "      <td>9:26:05 AM</td>\n",
              "      <td>15</td>\n",
              "      <td>5</td>\n",
              "      <td>9:37:56 AM</td>\n",
              "      <td>15</td>\n",
              "      <td>5</td>\n",
              "      <td>9:43:06 AM</td>\n",
              "      <td>15</td>\n",
              "      <td>5</td>\n",
              "      <td>10:05:27 AM</td>\n",
              "      <td>9</td>\n",
              "      <td>19.2</td>\n",
              "      <td>NaN</td>\n",
              "      <td>-1.281301</td>\n",
              "      <td>36.832396</td>\n",
              "      <td>-1.257147</td>\n",
              "      <td>36.795063</td>\n",
              "      <td>Rider_Id_855</td>\n",
              "      <td>1341</td>\n",
              "    </tr>\n",
              "    <tr>\n",
              "      <th>4</th>\n",
              "      <td>Order_No_27883</td>\n",
              "      <td>User_Id_1737</td>\n",
              "      <td>Bike</td>\n",
              "      <td>1</td>\n",
              "      <td>Personal</td>\n",
              "      <td>13</td>\n",
              "      <td>1</td>\n",
              "      <td>9:55:18 AM</td>\n",
              "      <td>13</td>\n",
              "      <td>1</td>\n",
              "      <td>9:56:18 AM</td>\n",
              "      <td>13</td>\n",
              "      <td>1</td>\n",
              "      <td>10:03:53 AM</td>\n",
              "      <td>13</td>\n",
              "      <td>1</td>\n",
              "      <td>10:05:23 AM</td>\n",
              "      <td>13</td>\n",
              "      <td>1</td>\n",
              "      <td>10:25:37 AM</td>\n",
              "      <td>9</td>\n",
              "      <td>15.4</td>\n",
              "      <td>NaN</td>\n",
              "      <td>-1.266597</td>\n",
              "      <td>36.792118</td>\n",
              "      <td>-1.295041</td>\n",
              "      <td>36.809817</td>\n",
              "      <td>Rider_Id_770</td>\n",
              "      <td>1214</td>\n",
              "    </tr>\n",
              "  </tbody>\n",
              "</table>\n",
              "</div>"
            ],
            "text/plain": [
              "         Order No       User Id  ...      Rider Id  Time from Pickup to Arrival\n",
              "0   Order_No_4211   User_Id_633  ...  Rider_Id_432                          745\n",
              "1  Order_No_25375  User_Id_2285  ...  Rider_Id_856                         1993\n",
              "2   Order_No_1899   User_Id_265  ...  Rider_Id_155                          455\n",
              "3   Order_No_9336  User_Id_1402  ...  Rider_Id_855                         1341\n",
              "4  Order_No_27883  User_Id_1737  ...  Rider_Id_770                         1214\n",
              "\n",
              "[5 rows x 29 columns]"
            ]
          },
          "metadata": {
            "tags": []
          },
          "execution_count": 10
        }
      ]
    },
    {
      "cell_type": "code",
      "metadata": {
        "id": "IbOpp6dKb3ZM",
        "colab_type": "code",
        "colab": {
          "base_uri": "https://localhost:8080/",
          "height": 482
        },
        "outputId": "69466e7a-e20e-4105-ea18-1ea111661ee0"
      },
      "source": [
        "train.groupby('Platform Type')['Time from Pickup to Arrival'].plot(kind='kde', figsize=[20,8], legend=True)\n",
        "plt.xlim([-1000,6000.0])\n",
        "plt.show()"
      ],
      "execution_count": 11,
      "outputs": [
        {
          "output_type": "display_data",
          "data": {
            "image/png": "[encoded data removed]",
            "text/plain": [
              "<Figure size 1440x576 with 1 Axes>"
            ]
          },
          "metadata": {
            "tags": [],
            "needs_background": "light"
          }
        }
      ]
    },
    {
      "cell_type": "code",
      "metadata": {
        "id": "a_YYuwque0Sj",
        "colab_type": "code",
        "colab": {
          "base_uri": "https://localhost:8080/",
          "height": 518
        },
        "outputId": "d0d14a0e-8743-4796-b778-65e2f4d677a8"
      },
      "source": [
        "#fig, ax = plt.subplots()\n",
        "train.hist(column='Time from Pickup to Arrival', figsize=(20,8), grid=False, bins='auto', color='#0504aa', alpha=0.7, rwidth=0.85)\n",
        "#train.plot.hist(density=True, ax=ax)\n",
        "plt.xlabel(\"Time from Pickup to Arrival\",fontsize=15)\n",
        "plt.ylabel(\"Frequency\",fontsize=15)\n",
        "plt.xlim([0.0,6000.0])\n",
        "plt.show()"
      ],
      "execution_count": 12,
      "outputs": [
        {
          "output_type": "display_data",
          "data": {
            "image/png": "[encoded data removed]",
            "text/plain": [
              "<Figure size 1440x576 with 1 Axes>"
            ]
          },
          "metadata": {
            "tags": [],
            "needs_background": "light"
          }
        }
      ]
    },
    {
      "cell_type": "code",
      "metadata": {
        "id": "77l8Jrb30XH7",
        "colab_type": "code",
        "colab": {
          "base_uri": "https://localhost:8080/",
          "height": 713
        },
        "outputId": "7d889735-5f06-463d-ee9c-1d93a53ca08f"
      },
      "source": [
        "train = train[(train['Time from Pickup to Arrival'] > 60)]\n",
        "train"
      ],
      "execution_count": 13,
      "outputs": [
        {
          "output_type": "execute_result",
          "data": {
            "text/html": [
              "<div>\n",
              "<style scoped>\n",
              "    .dataframe tbody tr th:only-of-type {\n",
              "        vertical-align: middle;\n",
              "    }\n",
              "\n",
              "    .dataframe tbody tr th {\n",
              "        vertical-align: top;\n",
              "    }\n",
              "\n",
              "    .dataframe thead th {\n",
              "        text-align: right;\n",
              "    }\n",
              "</style>\n",
              "<table border=\"1\" class=\"dataframe\">\n",
              "  <thead>\n",
              "    <tr style=\"text-align: right;\">\n",
              "      <th></th>\n",
              "      <th>Order No</th>\n",
              "      <th>User Id</th>\n",
              "      <th>Vehicle Type</th>\n",
              "      <th>Platform Type</th>\n",
              "      <th>Personal or Business</th>\n",
              "      <th>Placement - Day of Month</th>\n",
              "      <th>Placement - Weekday (Mo = 1)</th>\n",
              "      <th>Placement - Time</th>\n",
              "      <th>Confirmation - Day of Month</th>\n",
              "      <th>Confirmation - Weekday (Mo = 1)</th>\n",
              "      <th>Confirmation - Time</th>\n",
              "      <th>Arrival at Pickup - Day of Month</th>\n",
              "      <th>Arrival at Pickup - Weekday (Mo = 1)</th>\n",
              "      <th>Arrival at Pickup - Time</th>\n",
              "      <th>Pickup - Day of Month</th>\n",
              "      <th>Pickup - Weekday (Mo = 1)</th>\n",
              "      <th>Pickup - Time</th>\n",
              "      <th>Arrival at Destination - Day of Month</th>\n",
              "      <th>Arrival at Destination - Weekday (Mo = 1)</th>\n",
              "      <th>Arrival at Destination - Time</th>\n",
              "      <th>Distance (KM)</th>\n",
              "      <th>Temperature</th>\n",
              "      <th>Precipitation in millimeters</th>\n",
              "      <th>Pickup Lat</th>\n",
              "      <th>Pickup Long</th>\n",
              "      <th>Destination Lat</th>\n",
              "      <th>Destination Long</th>\n",
              "      <th>Rider Id</th>\n",
              "      <th>Time from Pickup to Arrival</th>\n",
              "    </tr>\n",
              "  </thead>\n",
              "  <tbody>\n",
              "    <tr>\n",
              "      <th>0</th>\n",
              "      <td>Order_No_4211</td>\n",
              "      <td>User_Id_633</td>\n",
              "      <td>Bike</td>\n",
              "      <td>3</td>\n",
              "      <td>Business</td>\n",
              "      <td>9</td>\n",
              "      <td>5</td>\n",
              "      <td>9:35:46 AM</td>\n",
              "      <td>9</td>\n",
              "      <td>5</td>\n",
              "      <td>9:40:10 AM</td>\n",
              "      <td>9</td>\n",
              "      <td>5</td>\n",
              "      <td>10:04:47 AM</td>\n",
              "      <td>9</td>\n",
              "      <td>5</td>\n",
              "      <td>10:27:30 AM</td>\n",
              "      <td>9</td>\n",
              "      <td>5</td>\n",
              "      <td>10:39:55 AM</td>\n",
              "      <td>4</td>\n",
              "      <td>20.4</td>\n",
              "      <td>NaN</td>\n",
              "      <td>-1.317755</td>\n",
              "      <td>36.830370</td>\n",
              "      <td>-1.300406</td>\n",
              "      <td>36.829741</td>\n",
              "      <td>Rider_Id_432</td>\n",
              "      <td>745</td>\n",
              "    </tr>\n",
              "    <tr>\n",
              "      <th>1</th>\n",
              "      <td>Order_No_25375</td>\n",
              "      <td>User_Id_2285</td>\n",
              "      <td>Bike</td>\n",
              "      <td>3</td>\n",
              "      <td>Personal</td>\n",
              "      <td>12</td>\n",
              "      <td>5</td>\n",
              "      <td>11:16:16 AM</td>\n",
              "      <td>12</td>\n",
              "      <td>5</td>\n",
              "      <td>11:23:21 AM</td>\n",
              "      <td>12</td>\n",
              "      <td>5</td>\n",
              "      <td>11:40:22 AM</td>\n",
              "      <td>12</td>\n",
              "      <td>5</td>\n",
              "      <td>11:44:09 AM</td>\n",
              "      <td>12</td>\n",
              "      <td>5</td>\n",
              "      <td>12:17:22 PM</td>\n",
              "      <td>16</td>\n",
              "      <td>26.4</td>\n",
              "      <td>NaN</td>\n",
              "      <td>-1.351453</td>\n",
              "      <td>36.899315</td>\n",
              "      <td>-1.295004</td>\n",
              "      <td>36.814358</td>\n",
              "      <td>Rider_Id_856</td>\n",
              "      <td>1993</td>\n",
              "    </tr>\n",
              "    <tr>\n",
              "      <th>2</th>\n",
              "      <td>Order_No_1899</td>\n",
              "      <td>User_Id_265</td>\n",
              "      <td>Bike</td>\n",
              "      <td>3</td>\n",
              "      <td>Business</td>\n",
              "      <td>30</td>\n",
              "      <td>2</td>\n",
              "      <td>12:39:25 PM</td>\n",
              "      <td>30</td>\n",
              "      <td>2</td>\n",
              "      <td>12:42:44 PM</td>\n",
              "      <td>30</td>\n",
              "      <td>2</td>\n",
              "      <td>12:49:34 PM</td>\n",
              "      <td>30</td>\n",
              "      <td>2</td>\n",
              "      <td>12:53:03 PM</td>\n",
              "      <td>30</td>\n",
              "      <td>2</td>\n",
              "      <td>1:00:38 PM</td>\n",
              "      <td>3</td>\n",
              "      <td>NaN</td>\n",
              "      <td>NaN</td>\n",
              "      <td>-1.308284</td>\n",
              "      <td>36.843419</td>\n",
              "      <td>-1.300921</td>\n",
              "      <td>36.828195</td>\n",
              "      <td>Rider_Id_155</td>\n",
              "      <td>455</td>\n",
              "    </tr>\n",
              "    <tr>\n",
              "      <th>3</th>\n",
              "      <td>Order_No_9336</td>\n",
              "      <td>User_Id_1402</td>\n",
              "      <td>Bike</td>\n",
              "      <td>3</td>\n",
              "      <td>Business</td>\n",
              "      <td>15</td>\n",
              "      <td>5</td>\n",
              "      <td>9:25:34 AM</td>\n",
              "      <td>15</td>\n",
              "      <td>5</td>\n",
              "      <td>9:26:05 AM</td>\n",
              "      <td>15</td>\n",
              "      <td>5</td>\n",
              "      <td>9:37:56 AM</td>\n",
              "      <td>15</td>\n",
              "      <td>5</td>\n",
              "      <td>9:43:06 AM</td>\n",
              "      <td>15</td>\n",
              "      <td>5</td>\n",
              "      <td>10:05:27 AM</td>\n",
              "      <td>9</td>\n",
              "      <td>19.2</td>\n",
              "      <td>NaN</td>\n",
              "      <td>-1.281301</td>\n",
              "      <td>36.832396</td>\n",
              "      <td>-1.257147</td>\n",
              "      <td>36.795063</td>\n",
              "      <td>Rider_Id_855</td>\n",
              "      <td>1341</td>\n",
              "    </tr>\n",
              "    <tr>\n",
              "      <th>4</th>\n",
              "      <td>Order_No_27883</td>\n",
              "      <td>User_Id_1737</td>\n",
              "      <td>Bike</td>\n",
              "      <td>1</td>\n",
              "      <td>Personal</td>\n",
              "      <td>13</td>\n",
              "      <td>1</td>\n",
              "      <td>9:55:18 AM</td>\n",
              "      <td>13</td>\n",
              "      <td>1</td>\n",
              "      <td>9:56:18 AM</td>\n",
              "      <td>13</td>\n",
              "      <td>1</td>\n",
              "      <td>10:03:53 AM</td>\n",
              "      <td>13</td>\n",
              "      <td>1</td>\n",
              "      <td>10:05:23 AM</td>\n",
              "      <td>13</td>\n",
              "      <td>1</td>\n",
              "      <td>10:25:37 AM</td>\n",
              "      <td>9</td>\n",
              "      <td>15.4</td>\n",
              "      <td>NaN</td>\n",
              "      <td>-1.266597</td>\n",
              "      <td>36.792118</td>\n",
              "      <td>-1.295041</td>\n",
              "      <td>36.809817</td>\n",
              "      <td>Rider_Id_770</td>\n",
              "      <td>1214</td>\n",
              "    </tr>\n",
              "    <tr>\n",
              "      <th>...</th>\n",
              "      <td>...</td>\n",
              "      <td>...</td>\n",
              "      <td>...</td>\n",
              "      <td>...</td>\n",
              "      <td>...</td>\n",
              "      <td>...</td>\n",
              "      <td>...</td>\n",
              "      <td>...</td>\n",
              "      <td>...</td>\n",
              "      <td>...</td>\n",
              "      <td>...</td>\n",
              "      <td>...</td>\n",
              "      <td>...</td>\n",
              "      <td>...</td>\n",
              "      <td>...</td>\n",
              "      <td>...</td>\n",
              "      <td>...</td>\n",
              "      <td>...</td>\n",
              "      <td>...</td>\n",
              "      <td>...</td>\n",
              "      <td>...</td>\n",
              "      <td>...</td>\n",
              "      <td>...</td>\n",
              "      <td>...</td>\n",
              "      <td>...</td>\n",
              "      <td>...</td>\n",
              "      <td>...</td>\n",
              "      <td>...</td>\n",
              "      <td>...</td>\n",
              "    </tr>\n",
              "    <tr>\n",
              "      <th>21195</th>\n",
              "      <td>Order_No_9932</td>\n",
              "      <td>User_Id_3582</td>\n",
              "      <td>Bike</td>\n",
              "      <td>3</td>\n",
              "      <td>Business</td>\n",
              "      <td>2</td>\n",
              "      <td>6</td>\n",
              "      <td>1:08:34 PM</td>\n",
              "      <td>2</td>\n",
              "      <td>6</td>\n",
              "      <td>1:25:40 PM</td>\n",
              "      <td>2</td>\n",
              "      <td>6</td>\n",
              "      <td>1:52:11 PM</td>\n",
              "      <td>2</td>\n",
              "      <td>6</td>\n",
              "      <td>1:54:36 PM</td>\n",
              "      <td>2</td>\n",
              "      <td>6</td>\n",
              "      <td>2:33:21 PM</td>\n",
              "      <td>17</td>\n",
              "      <td>29.0</td>\n",
              "      <td>NaN</td>\n",
              "      <td>-1.238406</td>\n",
              "      <td>36.871870</td>\n",
              "      <td>-1.276549</td>\n",
              "      <td>36.766981</td>\n",
              "      <td>Rider_Id_34</td>\n",
              "      <td>2325</td>\n",
              "    </tr>\n",
              "    <tr>\n",
              "      <th>21197</th>\n",
              "      <td>Order_No_22892</td>\n",
              "      <td>User_Id_1796</td>\n",
              "      <td>Bike</td>\n",
              "      <td>3</td>\n",
              "      <td>Business</td>\n",
              "      <td>13</td>\n",
              "      <td>6</td>\n",
              "      <td>10:13:34 AM</td>\n",
              "      <td>13</td>\n",
              "      <td>6</td>\n",
              "      <td>10:13:41 AM</td>\n",
              "      <td>13</td>\n",
              "      <td>6</td>\n",
              "      <td>10:20:04 AM</td>\n",
              "      <td>13</td>\n",
              "      <td>6</td>\n",
              "      <td>10:33:27 AM</td>\n",
              "      <td>13</td>\n",
              "      <td>6</td>\n",
              "      <td>10:46:17 AM</td>\n",
              "      <td>7</td>\n",
              "      <td>26.0</td>\n",
              "      <td>NaN</td>\n",
              "      <td>-1.307143</td>\n",
              "      <td>36.825009</td>\n",
              "      <td>-1.331619</td>\n",
              "      <td>36.847976</td>\n",
              "      <td>Rider_Id_155</td>\n",
              "      <td>770</td>\n",
              "    </tr>\n",
              "    <tr>\n",
              "      <th>21198</th>\n",
              "      <td>Order_No_2831</td>\n",
              "      <td>User_Id_2956</td>\n",
              "      <td>Bike</td>\n",
              "      <td>3</td>\n",
              "      <td>Business</td>\n",
              "      <td>7</td>\n",
              "      <td>4</td>\n",
              "      <td>5:06:16 PM</td>\n",
              "      <td>7</td>\n",
              "      <td>4</td>\n",
              "      <td>5:07:09 PM</td>\n",
              "      <td>7</td>\n",
              "      <td>4</td>\n",
              "      <td>5:30:17 PM</td>\n",
              "      <td>7</td>\n",
              "      <td>4</td>\n",
              "      <td>5:50:52 PM</td>\n",
              "      <td>7</td>\n",
              "      <td>4</td>\n",
              "      <td>6:40:05 PM</td>\n",
              "      <td>20</td>\n",
              "      <td>29.2</td>\n",
              "      <td>NaN</td>\n",
              "      <td>-1.286018</td>\n",
              "      <td>36.897534</td>\n",
              "      <td>-1.258414</td>\n",
              "      <td>36.804800</td>\n",
              "      <td>Rider_Id_697</td>\n",
              "      <td>2953</td>\n",
              "    </tr>\n",
              "    <tr>\n",
              "      <th>21199</th>\n",
              "      <td>Order_No_6174</td>\n",
              "      <td>User_Id_2524</td>\n",
              "      <td>Bike</td>\n",
              "      <td>1</td>\n",
              "      <td>Personal</td>\n",
              "      <td>4</td>\n",
              "      <td>3</td>\n",
              "      <td>9:31:39 AM</td>\n",
              "      <td>4</td>\n",
              "      <td>3</td>\n",
              "      <td>9:31:53 AM</td>\n",
              "      <td>4</td>\n",
              "      <td>3</td>\n",
              "      <td>9:38:59 AM</td>\n",
              "      <td>4</td>\n",
              "      <td>3</td>\n",
              "      <td>9:45:15 AM</td>\n",
              "      <td>4</td>\n",
              "      <td>3</td>\n",
              "      <td>10:08:15 AM</td>\n",
              "      <td>13</td>\n",
              "      <td>15.0</td>\n",
              "      <td>NaN</td>\n",
              "      <td>-1.250030</td>\n",
              "      <td>36.874167</td>\n",
              "      <td>-1.279209</td>\n",
              "      <td>36.794872</td>\n",
              "      <td>Rider_Id_347</td>\n",
              "      <td>1380</td>\n",
              "    </tr>\n",
              "    <tr>\n",
              "      <th>21200</th>\n",
              "      <td>Order_No_9836</td>\n",
              "      <td>User_Id_718</td>\n",
              "      <td>Bike</td>\n",
              "      <td>3</td>\n",
              "      <td>Business</td>\n",
              "      <td>26</td>\n",
              "      <td>2</td>\n",
              "      <td>2:19:47 PM</td>\n",
              "      <td>26</td>\n",
              "      <td>2</td>\n",
              "      <td>2:20:01 PM</td>\n",
              "      <td>26</td>\n",
              "      <td>2</td>\n",
              "      <td>2:24:29 PM</td>\n",
              "      <td>26</td>\n",
              "      <td>2</td>\n",
              "      <td>2:41:55 PM</td>\n",
              "      <td>26</td>\n",
              "      <td>2</td>\n",
              "      <td>3:17:23 PM</td>\n",
              "      <td>12</td>\n",
              "      <td>30.9</td>\n",
              "      <td>NaN</td>\n",
              "      <td>-1.255189</td>\n",
              "      <td>36.782203</td>\n",
              "      <td>-1.320157</td>\n",
              "      <td>36.830887</td>\n",
              "      <td>Rider_Id_177</td>\n",
              "      <td>2128</td>\n",
              "    </tr>\n",
              "  </tbody>\n",
              "</table>\n",
              "<p>20461 rows × 29 columns</p>\n",
              "</div>"
            ],
            "text/plain": [
              "             Order No       User Id  ...      Rider Id  Time from Pickup to Arrival\n",
              "0       Order_No_4211   User_Id_633  ...  Rider_Id_432                          745\n",
              "1      Order_No_25375  User_Id_2285  ...  Rider_Id_856                         1993\n",
              "2       Order_No_1899   User_Id_265  ...  Rider_Id_155                          455\n",
              "3       Order_No_9336  User_Id_1402  ...  Rider_Id_855                         1341\n",
              "4      Order_No_27883  User_Id_1737  ...  Rider_Id_770                         1214\n",
              "...               ...           ...  ...           ...                          ...\n",
              "21195   Order_No_9932  User_Id_3582  ...   Rider_Id_34                         2325\n",
              "21197  Order_No_22892  User_Id_1796  ...  Rider_Id_155                          770\n",
              "21198   Order_No_2831  User_Id_2956  ...  Rider_Id_697                         2953\n",
              "21199   Order_No_6174  User_Id_2524  ...  Rider_Id_347                         1380\n",
              "21200   Order_No_9836   User_Id_718  ...  Rider_Id_177                         2128\n",
              "\n",
              "[20461 rows x 29 columns]"
            ]
          },
          "metadata": {
            "tags": []
          },
          "execution_count": 13
        }
      ]
    },
    {
      "cell_type": "code",
      "metadata": {
        "id": "Y87DzFnqy_wd",
        "colab_type": "code",
        "colab": {
          "base_uri": "https://localhost:8080/",
          "height": 518
        },
        "outputId": "bf2cd542-734e-4158-d3a9-8564e892952f"
      },
      "source": [
        "train.hist(column='Time from Pickup to Arrival', figsize=(20,8), grid=False, bins='auto', color='#0504aa', alpha=0.7, rwidth=0.85)\n",
        "plt.xlabel(\"Time from Pickup to Arrival\",fontsize=15)\n",
        "plt.ylabel(\"Frequency\",fontsize=15)\n",
        "plt.xlim([0.0,6000.0])\n",
        "plt.show()"
      ],
      "execution_count": 14,
      "outputs": [
        {
          "output_type": "display_data",
          "data": {
            "image/png": "[encoded data removed]",
            "text/plain": [
              "<Figure size 1440x576 with 1 Axes>"
            ]
          },
          "metadata": {
            "tags": [],
            "needs_background": "light"
          }
        }
      ]
    },
    {
      "cell_type": "code",
      "metadata": {
        "id": "4zRpxQuJpQVc",
        "colab_type": "code",
        "colab": {
          "base_uri": "https://localhost:8080/",
          "height": 413
        },
        "outputId": "7349ad14-ed56-4400-a2e1-a3cd9a05d4ff"
      },
      "source": [
        "test.head()"
      ],
      "execution_count": 15,
      "outputs": [
        {
          "output_type": "execute_result",
          "data": {
            "text/html": [
              "<div>\n",
              "<style scoped>\n",
              "    .dataframe tbody tr th:only-of-type {\n",
              "        vertical-align: middle;\n",
              "    }\n",
              "\n",
              "    .dataframe tbody tr th {\n",
              "        vertical-align: top;\n",
              "    }\n",
              "\n",
              "    .dataframe thead th {\n",
              "        text-align: right;\n",
              "    }\n",
              "</style>\n",
              "<table border=\"1\" class=\"dataframe\">\n",
              "  <thead>\n",
              "    <tr style=\"text-align: right;\">\n",
              "      <th></th>\n",
              "      <th>Order No</th>\n",
              "      <th>User Id</th>\n",
              "      <th>Vehicle Type</th>\n",
              "      <th>Platform Type</th>\n",
              "      <th>Personal or Business</th>\n",
              "      <th>Placement - Day of Month</th>\n",
              "      <th>Placement - Weekday (Mo = 1)</th>\n",
              "      <th>Placement - Time</th>\n",
              "      <th>Confirmation - Day of Month</th>\n",
              "      <th>Confirmation - Weekday (Mo = 1)</th>\n",
              "      <th>Confirmation - Time</th>\n",
              "      <th>Arrival at Pickup - Day of Month</th>\n",
              "      <th>Arrival at Pickup - Weekday (Mo = 1)</th>\n",
              "      <th>Arrival at Pickup - Time</th>\n",
              "      <th>Pickup - Day of Month</th>\n",
              "      <th>Pickup - Weekday (Mo = 1)</th>\n",
              "      <th>Pickup - Time</th>\n",
              "      <th>Distance (KM)</th>\n",
              "      <th>Temperature</th>\n",
              "      <th>Precipitation in millimeters</th>\n",
              "      <th>Pickup Lat</th>\n",
              "      <th>Pickup Long</th>\n",
              "      <th>Destination Lat</th>\n",
              "      <th>Destination Long</th>\n",
              "      <th>Rider Id</th>\n",
              "    </tr>\n",
              "  </thead>\n",
              "  <tbody>\n",
              "    <tr>\n",
              "      <th>0</th>\n",
              "      <td>Order_No_19248</td>\n",
              "      <td>User_Id_3355</td>\n",
              "      <td>Bike</td>\n",
              "      <td>3</td>\n",
              "      <td>Business</td>\n",
              "      <td>27</td>\n",
              "      <td>3</td>\n",
              "      <td>4:44:10 PM</td>\n",
              "      <td>27</td>\n",
              "      <td>3</td>\n",
              "      <td>4:44:29 PM</td>\n",
              "      <td>27</td>\n",
              "      <td>3</td>\n",
              "      <td>4:53:04 PM</td>\n",
              "      <td>27</td>\n",
              "      <td>3</td>\n",
              "      <td>5:06:47 PM</td>\n",
              "      <td>8</td>\n",
              "      <td>NaN</td>\n",
              "      <td>NaN</td>\n",
              "      <td>-1.333275</td>\n",
              "      <td>36.870815</td>\n",
              "      <td>-1.305249</td>\n",
              "      <td>36.822390</td>\n",
              "      <td>Rider_Id_192</td>\n",
              "    </tr>\n",
              "    <tr>\n",
              "      <th>1</th>\n",
              "      <td>Order_No_12736</td>\n",
              "      <td>User_Id_3647</td>\n",
              "      <td>Bike</td>\n",
              "      <td>3</td>\n",
              "      <td>Business</td>\n",
              "      <td>17</td>\n",
              "      <td>5</td>\n",
              "      <td>12:57:35 PM</td>\n",
              "      <td>17</td>\n",
              "      <td>5</td>\n",
              "      <td>12:59:17 PM</td>\n",
              "      <td>17</td>\n",
              "      <td>5</td>\n",
              "      <td>1:20:27 PM</td>\n",
              "      <td>17</td>\n",
              "      <td>5</td>\n",
              "      <td>1:25:37 PM</td>\n",
              "      <td>5</td>\n",
              "      <td>NaN</td>\n",
              "      <td>NaN</td>\n",
              "      <td>-1.272639</td>\n",
              "      <td>36.794723</td>\n",
              "      <td>-1.277007</td>\n",
              "      <td>36.823907</td>\n",
              "      <td>Rider_Id_868</td>\n",
              "    </tr>\n",
              "    <tr>\n",
              "      <th>2</th>\n",
              "      <td>Order_No_768</td>\n",
              "      <td>User_Id_2154</td>\n",
              "      <td>Bike</td>\n",
              "      <td>3</td>\n",
              "      <td>Business</td>\n",
              "      <td>27</td>\n",
              "      <td>4</td>\n",
              "      <td>11:08:14 AM</td>\n",
              "      <td>27</td>\n",
              "      <td>4</td>\n",
              "      <td>11:25:05 AM</td>\n",
              "      <td>27</td>\n",
              "      <td>4</td>\n",
              "      <td>11:33:20 AM</td>\n",
              "      <td>27</td>\n",
              "      <td>4</td>\n",
              "      <td>11:57:54 AM</td>\n",
              "      <td>5</td>\n",
              "      <td>22.8</td>\n",
              "      <td>NaN</td>\n",
              "      <td>-1.290894</td>\n",
              "      <td>36.822971</td>\n",
              "      <td>-1.276574</td>\n",
              "      <td>36.851365</td>\n",
              "      <td>Rider_Id_26</td>\n",
              "    </tr>\n",
              "    <tr>\n",
              "      <th>3</th>\n",
              "      <td>Order_No_15332</td>\n",
              "      <td>User_Id_2910</td>\n",
              "      <td>Bike</td>\n",
              "      <td>3</td>\n",
              "      <td>Business</td>\n",
              "      <td>17</td>\n",
              "      <td>1</td>\n",
              "      <td>1:51:35 PM</td>\n",
              "      <td>17</td>\n",
              "      <td>1</td>\n",
              "      <td>1:53:27 PM</td>\n",
              "      <td>17</td>\n",
              "      <td>1</td>\n",
              "      <td>2:02:41 PM</td>\n",
              "      <td>17</td>\n",
              "      <td>1</td>\n",
              "      <td>2:16:52 PM</td>\n",
              "      <td>5</td>\n",
              "      <td>24.5</td>\n",
              "      <td>NaN</td>\n",
              "      <td>-1.290503</td>\n",
              "      <td>36.809646</td>\n",
              "      <td>-1.303382</td>\n",
              "      <td>36.790658</td>\n",
              "      <td>Rider_Id_685</td>\n",
              "    </tr>\n",
              "    <tr>\n",
              "      <th>4</th>\n",
              "      <td>Order_No_21373</td>\n",
              "      <td>User_Id_1205</td>\n",
              "      <td>Bike</td>\n",
              "      <td>3</td>\n",
              "      <td>Business</td>\n",
              "      <td>11</td>\n",
              "      <td>2</td>\n",
              "      <td>11:30:28 AM</td>\n",
              "      <td>11</td>\n",
              "      <td>2</td>\n",
              "      <td>11:34:45 AM</td>\n",
              "      <td>11</td>\n",
              "      <td>2</td>\n",
              "      <td>11:47:19 AM</td>\n",
              "      <td>11</td>\n",
              "      <td>2</td>\n",
              "      <td>11:56:04 AM</td>\n",
              "      <td>6</td>\n",
              "      <td>24.4</td>\n",
              "      <td>NaN</td>\n",
              "      <td>-1.281081</td>\n",
              "      <td>36.814423</td>\n",
              "      <td>-1.266467</td>\n",
              "      <td>36.792161</td>\n",
              "      <td>Rider_Id_858</td>\n",
              "    </tr>\n",
              "  </tbody>\n",
              "</table>\n",
              "</div>"
            ],
            "text/plain": [
              "         Order No       User Id  ... Destination Long      Rider Id\n",
              "0  Order_No_19248  User_Id_3355  ...        36.822390  Rider_Id_192\n",
              "1  Order_No_12736  User_Id_3647  ...        36.823907  Rider_Id_868\n",
              "2    Order_No_768  User_Id_2154  ...        36.851365   Rider_Id_26\n",
              "3  Order_No_15332  User_Id_2910  ...        36.790658  Rider_Id_685\n",
              "4  Order_No_21373  User_Id_1205  ...        36.792161  Rider_Id_858\n",
              "\n",
              "[5 rows x 25 columns]"
            ]
          },
          "metadata": {
            "tags": []
          },
          "execution_count": 15
        }
      ]
    },
    {
      "cell_type": "code",
      "metadata": {
        "id": "k3BlpU1nu7lC",
        "colab_type": "code",
        "colab": {
          "base_uri": "https://localhost:8080/",
          "height": 1000
        },
        "outputId": "5f2f81fb-f4de-43eb-85af-9ea896f686da"
      },
      "source": [
        "train.info()\n",
        "test.info()"
      ],
      "execution_count": 16,
      "outputs": [
        {
          "output_type": "stream",
          "text": [
            "<class 'pandas.core.frame.DataFrame'>\n",
            "Int64Index: 20461 entries, 0 to 21200\n",
            "Data columns (total 29 columns):\n",
            " #   Column                                     Non-Null Count  Dtype  \n",
            "---  ------                                     --------------  -----  \n",
            " 0   Order No                                   20461 non-null  object \n",
            " 1   User Id                                    20461 non-null  object \n",
            " 2   Vehicle Type                               20461 non-null  object \n",
            " 3   Platform Type                              20461 non-null  int64  \n",
            " 4   Personal or Business                       20461 non-null  object \n",
            " 5   Placement - Day of Month                   20461 non-null  int64  \n",
            " 6   Placement - Weekday (Mo = 1)               20461 non-null  int64  \n",
            " 7   Placement - Time                           20461 non-null  object \n",
            " 8   Confirmation - Day of Month                20461 non-null  int64  \n",
            " 9   Confirmation - Weekday (Mo = 1)            20461 non-null  int64  \n",
            " 10  Confirmation - Time                        20461 non-null  object \n",
            " 11  Arrival at Pickup - Day of Month           20461 non-null  int64  \n",
            " 12  Arrival at Pickup - Weekday (Mo = 1)       20461 non-null  int64  \n",
            " 13  Arrival at Pickup - Time                   20461 non-null  object \n",
            " 14  Pickup - Day of Month                      20461 non-null  int64  \n",
            " 15  Pickup - Weekday (Mo = 1)                  20461 non-null  int64  \n",
            " 16  Pickup - Time                              20461 non-null  object \n",
            " 17  Arrival at Destination - Day of Month      20461 non-null  int64  \n",
            " 18  Arrival at Destination - Weekday (Mo = 1)  20461 non-null  int64  \n",
            " 19  Arrival at Destination - Time              20461 non-null  object \n",
            " 20  Distance (KM)                              20461 non-null  int64  \n",
            " 21  Temperature                                16290 non-null  float64\n",
            " 22  Precipitation in millimeters               541 non-null    float64\n",
            " 23  Pickup Lat                                 20461 non-null  float64\n",
            " 24  Pickup Long                                20461 non-null  float64\n",
            " 25  Destination Lat                            20461 non-null  float64\n",
            " 26  Destination Long                           20461 non-null  float64\n",
            " 27  Rider Id                                   20461 non-null  object \n",
            " 28  Time from Pickup to Arrival                20461 non-null  int64  \n",
            "dtypes: float64(6), int64(13), object(10)\n",
            "memory usage: 4.7+ MB\n",
            "<class 'pandas.core.frame.DataFrame'>\n",
            "RangeIndex: 7068 entries, 0 to 7067\n",
            "Data columns (total 25 columns):\n",
            " #   Column                                Non-Null Count  Dtype  \n",
            "---  ------                                --------------  -----  \n",
            " 0   Order No                              7068 non-null   object \n",
            " 1   User Id                               7068 non-null   object \n",
            " 2   Vehicle Type                          7068 non-null   object \n",
            " 3   Platform Type                         7068 non-null   int64  \n",
            " 4   Personal or Business                  7068 non-null   object \n",
            " 5   Placement - Day of Month              7068 non-null   int64  \n",
            " 6   Placement - Weekday (Mo = 1)          7068 non-null   int64  \n",
            " 7   Placement - Time                      7068 non-null   object \n",
            " 8   Confirmation - Day of Month           7068 non-null   int64  \n",
            " 9   Confirmation - Weekday (Mo = 1)       7068 non-null   int64  \n",
            " 10  Confirmation - Time                   7068 non-null   object \n",
            " 11  Arrival at Pickup - Day of Month      7068 non-null   int64  \n",
            " 12  Arrival at Pickup - Weekday (Mo = 1)  7068 non-null   int64  \n",
            " 13  Arrival at Pickup - Time              7068 non-null   object \n",
            " 14  Pickup - Day of Month                 7068 non-null   int64  \n",
            " 15  Pickup - Weekday (Mo = 1)             7068 non-null   int64  \n",
            " 16  Pickup - Time                         7068 non-null   object \n",
            " 17  Distance (KM)                         7068 non-null   int64  \n",
            " 18  Temperature                           5631 non-null   float64\n",
            " 19  Precipitation in millimeters          199 non-null    float64\n",
            " 20  Pickup Lat                            7068 non-null   float64\n",
            " 21  Pickup Long                           7068 non-null   float64\n",
            " 22  Destination Lat                       7068 non-null   float64\n",
            " 23  Destination Long                      7068 non-null   float64\n",
            " 24  Rider Id                              7068 non-null   object \n",
            "dtypes: float64(6), int64(10), object(9)\n",
            "memory usage: 1.3+ MB\n"
          ],
          "name": "stdout"
        }
      ]
    },
    {
      "cell_type": "markdown",
      "metadata": {
        "id": "VyvrakCOwLc7",
        "colab_type": "text"
      },
      "source": [
        "Convert time to datetime format."
      ]
    },
    {
      "cell_type": "code",
      "metadata": {
        "colab_type": "code",
        "id": "lRq47CyRXUzp",
        "colab": {}
      },
      "source": [
        "train['Placement - Time'] =  (pd.to_timedelta(train['Placement - Time']).astype(int)/60)\n",
        "train['Confirmation - Time'] =  (pd.to_timedelta(train['Confirmation - Time']).astype(int)/60)\n",
        "train['Arrival at Pickup - Time'] =  pd.to_timedelta(train['Arrival at Pickup - Time']).astype(int)/60\n",
        "train['Arrival at Destination - Time'] =  pd.to_timedelta(train['Arrival at Destination - Time']).astype(int)/60\n",
        "train['Pickup - Time'] =  pd.to_timedelta(train['Pickup - Time']).astype(int)/60\n",
        "\n",
        "test['Placement - Time'] =  pd.to_timedelta(test['Placement - Time']).astype(int)/60\n",
        "test['Confirmation - Time'] =  pd.to_timedelta(test['Confirmation - Time']).astype(int)/60\n",
        "test['Arrival at Pickup - Time'] =  pd.to_timedelta(test['Arrival at Pickup - Time']).astype(int)/60\n",
        "test['Pickup - Time'] =  pd.to_timedelta(test['Pickup - Time']).astype(int)/60"
      ],
      "execution_count": 17,
      "outputs": []
    },
    {
      "cell_type": "markdown",
      "metadata": {
        "id": "Nqac2uey3yCn",
        "colab_type": "text"
      },
      "source": [
        "From the above table we see that precipitation only has less than 3% of the values  in the table, hence we are removing it from our data.\n",
        "Removed the Vehichle type since it is the same vehicle in this instance a bike.\n",
        "While for the missing values in Temperature we replace them with the average/mean of the number in the Temperature column."
      ]
    },
    {
      "cell_type": "code",
      "metadata": {
        "id": "ky33sfpq55wa",
        "colab_type": "code",
        "colab": {}
      },
      "source": [
        "train.drop('Precipitation in millimeters', axis=1, inplace=True)\n",
        "train.drop('Vehicle Type', axis=1, inplace=True)\n",
        "train.drop('Order No', axis=1, inplace=True)   #Comment the text\n",
        "train.drop('Arrival at Destination - Day of Month', axis=1, inplace=True)   #Comment the text\n",
        "train.drop('Arrival at Destination - Weekday (Mo = 1)', axis=1, inplace=True)   #Comment the text\n",
        "train.drop('Arrival at Destination - Time', axis=1, inplace=True)   #Comment the text\n",
        "train.drop('User Id', axis=1, inplace=True)   #Comment the text\n",
        "train.drop('Temperature', axis=1, inplace=True)   #Comment the text\n",
        "train.drop('Rider Id', axis=1, inplace=True)   #Comment the text\n",
        "test.drop('Precipitation in millimeters', axis=1, inplace=True)\n",
        "test.drop('Vehicle Type', axis=1, inplace=True)\n",
        "test.drop('Order No', axis=1, inplace=True)    #Comment the text\n",
        "test.drop('Temperature', axis=1, inplace=True)   #Comment the text\n",
        "test.drop('User Id', axis=1, inplace=True)    #Comment the text\n",
        "test.drop('Rider Id', axis=1, inplace=True)    #Comment the text\n",
        "\n",
        "train = train.fillna(train.mean())\n",
        "test = test.fillna(train.mean())"
      ],
      "execution_count": 18,
      "outputs": []
    },
    {
      "cell_type": "code",
      "metadata": {
        "id": "Nj5I4gmtRYZS",
        "colab_type": "code",
        "colab": {
          "base_uri": "https://localhost:8080/",
          "height": 936
        },
        "outputId": "114bb1d4-3779-48ef-a7b7-97424824baef"
      },
      "source": [
        "train.info()\n",
        "test.info()"
      ],
      "execution_count": 836,
      "outputs": [
        {
          "output_type": "stream",
          "text": [
            "<class 'pandas.core.frame.DataFrame'>\n",
            "Int64Index: 20461 entries, 0 to 21200\n",
            "Data columns (total 20 columns):\n",
            " #   Column                                Non-Null Count  Dtype  \n",
            "---  ------                                --------------  -----  \n",
            " 0   Platform Type                         20461 non-null  int64  \n",
            " 1   Personal or Business                  20461 non-null  object \n",
            " 2   Placement - Day of Month              20461 non-null  int64  \n",
            " 3   Placement - Weekday (Mo = 1)          20461 non-null  int64  \n",
            " 4   Placement - Time                      20461 non-null  float64\n",
            " 5   Confirmation - Day of Month           20461 non-null  int64  \n",
            " 6   Confirmation - Weekday (Mo = 1)       20461 non-null  int64  \n",
            " 7   Confirmation - Time                   20461 non-null  float64\n",
            " 8   Arrival at Pickup - Day of Month      20461 non-null  int64  \n",
            " 9   Arrival at Pickup - Weekday (Mo = 1)  20461 non-null  int64  \n",
            " 10  Arrival at Pickup - Time              20461 non-null  float64\n",
            " 11  Pickup - Day of Month                 20461 non-null  int64  \n",
            " 12  Pickup - Weekday (Mo = 1)             20461 non-null  int64  \n",
            " 13  Pickup - Time                         20461 non-null  float64\n",
            " 14  Distance (KM)                         20461 non-null  int64  \n",
            " 15  Pickup Lat                            20461 non-null  float64\n",
            " 16  Pickup Long                           20461 non-null  float64\n",
            " 17  Destination Lat                       20461 non-null  float64\n",
            " 18  Destination Long                      20461 non-null  float64\n",
            " 19  Time from Pickup to Arrival           20461 non-null  int64  \n",
            "dtypes: float64(8), int64(11), object(1)\n",
            "memory usage: 3.3+ MB\n",
            "<class 'pandas.core.frame.DataFrame'>\n",
            "RangeIndex: 7068 entries, 0 to 7067\n",
            "Data columns (total 19 columns):\n",
            " #   Column                                Non-Null Count  Dtype  \n",
            "---  ------                                --------------  -----  \n",
            " 0   Platform Type                         7068 non-null   int64  \n",
            " 1   Personal or Business                  7068 non-null   object \n",
            " 2   Placement - Day of Month              7068 non-null   int64  \n",
            " 3   Placement - Weekday (Mo = 1)          7068 non-null   int64  \n",
            " 4   Placement - Time                      7068 non-null   float64\n",
            " 5   Confirmation - Day of Month           7068 non-null   int64  \n",
            " 6   Confirmation - Weekday (Mo = 1)       7068 non-null   int64  \n",
            " 7   Confirmation - Time                   7068 non-null   float64\n",
            " 8   Arrival at Pickup - Day of Month      7068 non-null   int64  \n",
            " 9   Arrival at Pickup - Weekday (Mo = 1)  7068 non-null   int64  \n",
            " 10  Arrival at Pickup - Time              7068 non-null   float64\n",
            " 11  Pickup - Day of Month                 7068 non-null   int64  \n",
            " 12  Pickup - Weekday (Mo = 1)             7068 non-null   int64  \n",
            " 13  Pickup - Time                         7068 non-null   float64\n",
            " 14  Distance (KM)                         7068 non-null   int64  \n",
            " 15  Pickup Lat                            7068 non-null   float64\n",
            " 16  Pickup Long                           7068 non-null   float64\n",
            " 17  Destination Lat                       7068 non-null   float64\n",
            " 18  Destination Long                      7068 non-null   float64\n",
            "dtypes: float64(8), int64(10), object(1)\n",
            "memory usage: 1.0+ MB\n"
          ],
          "name": "stdout"
        }
      ]
    },
    {
      "cell_type": "markdown",
      "metadata": {
        "id": "BjX9Gy3-CVJD",
        "colab_type": "text"
      },
      "source": [
        "Encoding the data for 'Personal or Business' column into dummy variables."
      ]
    },
    {
      "cell_type": "code",
      "metadata": {
        "id": "HRiX494BCMsX",
        "colab_type": "code",
        "colab": {}
      },
      "source": [
        "train['Personal or Business'] = pd.get_dummies(train['Personal or Business'])\n",
        "test['Personal or Business'] = pd.get_dummies(test['Personal or Business'])"
      ],
      "execution_count": 19,
      "outputs": []
    },
    {
      "cell_type": "markdown",
      "metadata": {
        "id": "t3PSebzRCy33",
        "colab_type": "text"
      },
      "source": [
        "The 5 Number Summary."
      ]
    },
    {
      "cell_type": "code",
      "metadata": {
        "id": "vpG6siIXC5_x",
        "colab_type": "code",
        "colab": {
          "base_uri": "https://localhost:8080/",
          "height": 364
        },
        "outputId": "44a5ca6e-9554-4e62-bacf-0790ebe1df4a"
      },
      "source": [
        "train.describe().round(2)"
      ],
      "execution_count": 20,
      "outputs": [
        {
          "output_type": "execute_result",
          "data": {
            "text/html": [
              "<div>\n",
              "<style scoped>\n",
              "    .dataframe tbody tr th:only-of-type {\n",
              "        vertical-align: middle;\n",
              "    }\n",
              "\n",
              "    .dataframe tbody tr th {\n",
              "        vertical-align: top;\n",
              "    }\n",
              "\n",
              "    .dataframe thead th {\n",
              "        text-align: right;\n",
              "    }\n",
              "</style>\n",
              "<table border=\"1\" class=\"dataframe\">\n",
              "  <thead>\n",
              "    <tr style=\"text-align: right;\">\n",
              "      <th></th>\n",
              "      <th>Platform Type</th>\n",
              "      <th>Personal or Business</th>\n",
              "      <th>Placement - Day of Month</th>\n",
              "      <th>Placement - Weekday (Mo = 1)</th>\n",
              "      <th>Placement - Time</th>\n",
              "      <th>Confirmation - Day of Month</th>\n",
              "      <th>Confirmation - Weekday (Mo = 1)</th>\n",
              "      <th>Confirmation - Time</th>\n",
              "      <th>Arrival at Pickup - Day of Month</th>\n",
              "      <th>Arrival at Pickup - Weekday (Mo = 1)</th>\n",
              "      <th>Arrival at Pickup - Time</th>\n",
              "      <th>Pickup - Day of Month</th>\n",
              "      <th>Pickup - Weekday (Mo = 1)</th>\n",
              "      <th>Pickup - Time</th>\n",
              "      <th>Distance (KM)</th>\n",
              "      <th>Pickup Lat</th>\n",
              "      <th>Pickup Long</th>\n",
              "      <th>Destination Lat</th>\n",
              "      <th>Destination Long</th>\n",
              "      <th>Time from Pickup to Arrival</th>\n",
              "    </tr>\n",
              "  </thead>\n",
              "  <tbody>\n",
              "    <tr>\n",
              "      <th>count</th>\n",
              "      <td>20461.00</td>\n",
              "      <td>20461.00</td>\n",
              "      <td>20461.00</td>\n",
              "      <td>20461.00</td>\n",
              "      <td>2.046100e+04</td>\n",
              "      <td>20461.00</td>\n",
              "      <td>20461.00</td>\n",
              "      <td>2.046100e+04</td>\n",
              "      <td>20461.00</td>\n",
              "      <td>20461.00</td>\n",
              "      <td>2.046100e+04</td>\n",
              "      <td>20461.00</td>\n",
              "      <td>20461.00</td>\n",
              "      <td>2.046100e+04</td>\n",
              "      <td>20461.00</td>\n",
              "      <td>20461.00</td>\n",
              "      <td>20461.00</td>\n",
              "      <td>20461.00</td>\n",
              "      <td>20461.00</td>\n",
              "      <td>20461.00</td>\n",
              "    </tr>\n",
              "    <tr>\n",
              "      <th>mean</th>\n",
              "      <td>2.74</td>\n",
              "      <td>0.81</td>\n",
              "      <td>15.64</td>\n",
              "      <td>3.24</td>\n",
              "      <td>4.354120e+11</td>\n",
              "      <td>15.64</td>\n",
              "      <td>3.24</td>\n",
              "      <td>4.310830e+11</td>\n",
              "      <td>15.64</td>\n",
              "      <td>3.24</td>\n",
              "      <td>4.244598e+11</td>\n",
              "      <td>15.64</td>\n",
              "      <td>3.24</td>\n",
              "      <td>4.188547e+11</td>\n",
              "      <td>9.62</td>\n",
              "      <td>-1.28</td>\n",
              "      <td>36.81</td>\n",
              "      <td>-1.28</td>\n",
              "      <td>36.81</td>\n",
              "      <td>1612.87</td>\n",
              "    </tr>\n",
              "    <tr>\n",
              "      <th>std</th>\n",
              "      <td>0.63</td>\n",
              "      <td>0.39</td>\n",
              "      <td>8.79</td>\n",
              "      <td>1.57</td>\n",
              "      <td>2.450855e+11</td>\n",
              "      <td>8.79</td>\n",
              "      <td>1.57</td>\n",
              "      <td>2.449851e+11</td>\n",
              "      <td>8.79</td>\n",
              "      <td>1.57</td>\n",
              "      <td>2.454086e+11</td>\n",
              "      <td>8.79</td>\n",
              "      <td>1.57</td>\n",
              "      <td>2.455514e+11</td>\n",
              "      <td>5.67</td>\n",
              "      <td>0.03</td>\n",
              "      <td>0.04</td>\n",
              "      <td>0.04</td>\n",
              "      <td>0.05</td>\n",
              "      <td>959.30</td>\n",
              "    </tr>\n",
              "    <tr>\n",
              "      <th>min</th>\n",
              "      <td>1.00</td>\n",
              "      <td>0.00</td>\n",
              "      <td>1.00</td>\n",
              "      <td>1.00</td>\n",
              "      <td>6.001667e+10</td>\n",
              "      <td>1.00</td>\n",
              "      <td>1.00</td>\n",
              "      <td>6.000000e+10</td>\n",
              "      <td>1.00</td>\n",
              "      <td>1.00</td>\n",
              "      <td>6.005000e+10</td>\n",
              "      <td>1.00</td>\n",
              "      <td>1.00</td>\n",
              "      <td>6.000000e+10</td>\n",
              "      <td>1.00</td>\n",
              "      <td>-1.44</td>\n",
              "      <td>36.65</td>\n",
              "      <td>-1.43</td>\n",
              "      <td>36.61</td>\n",
              "      <td>62.00</td>\n",
              "    </tr>\n",
              "    <tr>\n",
              "      <th>25%</th>\n",
              "      <td>3.00</td>\n",
              "      <td>1.00</td>\n",
              "      <td>8.00</td>\n",
              "      <td>2.00</td>\n",
              "      <td>1.863333e+11</td>\n",
              "      <td>8.00</td>\n",
              "      <td>2.00</td>\n",
              "      <td>1.872167e+11</td>\n",
              "      <td>8.00</td>\n",
              "      <td>2.00</td>\n",
              "      <td>1.873000e+11</td>\n",
              "      <td>8.00</td>\n",
              "      <td>2.00</td>\n",
              "      <td>1.876333e+11</td>\n",
              "      <td>5.00</td>\n",
              "      <td>-1.30</td>\n",
              "      <td>36.78</td>\n",
              "      <td>-1.30</td>\n",
              "      <td>36.79</td>\n",
              "      <td>930.00</td>\n",
              "    </tr>\n",
              "    <tr>\n",
              "      <th>50%</th>\n",
              "      <td>3.00</td>\n",
              "      <td>1.00</td>\n",
              "      <td>15.00</td>\n",
              "      <td>3.00</td>\n",
              "      <td>5.277000e+11</td>\n",
              "      <td>15.00</td>\n",
              "      <td>3.00</td>\n",
              "      <td>5.163000e+11</td>\n",
              "      <td>15.00</td>\n",
              "      <td>3.00</td>\n",
              "      <td>4.348833e+11</td>\n",
              "      <td>15.00</td>\n",
              "      <td>3.00</td>\n",
              "      <td>3.510667e+11</td>\n",
              "      <td>8.00</td>\n",
              "      <td>-1.28</td>\n",
              "      <td>36.81</td>\n",
              "      <td>-1.28</td>\n",
              "      <td>36.81</td>\n",
              "      <td>1406.00</td>\n",
              "    </tr>\n",
              "    <tr>\n",
              "      <th>75%</th>\n",
              "      <td>3.00</td>\n",
              "      <td>1.00</td>\n",
              "      <td>23.00</td>\n",
              "      <td>5.00</td>\n",
              "      <td>6.629833e+11</td>\n",
              "      <td>23.00</td>\n",
              "      <td>5.00</td>\n",
              "      <td>6.621333e+11</td>\n",
              "      <td>23.00</td>\n",
              "      <td>5.00</td>\n",
              "      <td>6.616833e+11</td>\n",
              "      <td>23.00</td>\n",
              "      <td>5.00</td>\n",
              "      <td>6.628167e+11</td>\n",
              "      <td>13.00</td>\n",
              "      <td>-1.26</td>\n",
              "      <td>36.83</td>\n",
              "      <td>-1.26</td>\n",
              "      <td>36.83</td>\n",
              "      <td>2072.00</td>\n",
              "    </tr>\n",
              "    <tr>\n",
              "      <th>max</th>\n",
              "      <td>4.00</td>\n",
              "      <td>1.00</td>\n",
              "      <td>31.00</td>\n",
              "      <td>7.00</td>\n",
              "      <td>7.799833e+11</td>\n",
              "      <td>31.00</td>\n",
              "      <td>7.00</td>\n",
              "      <td>7.799667e+11</td>\n",
              "      <td>31.00</td>\n",
              "      <td>7.00</td>\n",
              "      <td>7.799667e+11</td>\n",
              "      <td>31.00</td>\n",
              "      <td>7.00</td>\n",
              "      <td>7.799833e+11</td>\n",
              "      <td>49.00</td>\n",
              "      <td>-1.15</td>\n",
              "      <td>36.99</td>\n",
              "      <td>-1.03</td>\n",
              "      <td>37.02</td>\n",
              "      <td>7883.00</td>\n",
              "    </tr>\n",
              "  </tbody>\n",
              "</table>\n",
              "</div>"
            ],
            "text/plain": [
              "       Platform Type  ...  Time from Pickup to Arrival\n",
              "count       20461.00  ...                     20461.00\n",
              "mean            2.74  ...                      1612.87\n",
              "std             0.63  ...                       959.30\n",
              "min             1.00  ...                        62.00\n",
              "25%             3.00  ...                       930.00\n",
              "50%             3.00  ...                      1406.00\n",
              "75%             3.00  ...                      2072.00\n",
              "max             4.00  ...                      7883.00\n",
              "\n",
              "[8 rows x 20 columns]"
            ]
          },
          "metadata": {
            "tags": []
          },
          "execution_count": 20
        }
      ]
    },
    {
      "cell_type": "code",
      "metadata": {
        "id": "7Qy1ud15EBC1",
        "colab_type": "code",
        "colab": {
          "base_uri": "https://localhost:8080/",
          "height": 460
        },
        "outputId": "ecbc3ae2-322e-4518-e98a-754806b88b69"
      },
      "source": [
        "corr = train.corr()\n",
        "sns.heatmap(corr)"
      ],
      "execution_count": 21,
      "outputs": [
        {
          "output_type": "execute_result",
          "data": {
            "text/plain": [
              "<matplotlib.axes._subplots.AxesSubplot at 0x7f848cbe8898>"
            ]
          },
          "metadata": {
            "tags": []
          },
          "execution_count": 21
        },
        {
          "output_type": "display_data",
          "data": {
            "image/png": "[encoded data removed]",
            "text/plain": [
              "<Figure size 432x288 with 2 Axes>"
            ]
          },
          "metadata": {
            "tags": [],
            "needs_background": "light"
          }
        }
      ]
    },
    {
      "cell_type": "code",
      "metadata": {
        "id": "q6MBoIpzF7ZD",
        "colab_type": "code",
        "colab": {}
      },
      "source": [
        ""
      ],
      "execution_count": 839,
      "outputs": []
    },
    {
      "cell_type": "code",
      "metadata": {
        "id": "q7ZXk5ImGZFS",
        "colab_type": "code",
        "colab": {}
      },
      "source": [
        ""
      ],
      "execution_count": 839,
      "outputs": []
    },
    {
      "cell_type": "code",
      "metadata": {
        "id": "5F_WggvHGjcI",
        "colab_type": "code",
        "colab": {}
      },
      "source": [
        ""
      ],
      "execution_count": 839,
      "outputs": []
    },
    {
      "cell_type": "code",
      "metadata": {
        "id": "5o8Pn4kuGjja",
        "colab_type": "code",
        "colab": {}
      },
      "source": [
        ""
      ],
      "execution_count": 839,
      "outputs": []
    },
    {
      "cell_type": "code",
      "metadata": {
        "id": "UpCnvbPpGjmX",
        "colab_type": "code",
        "colab": {}
      },
      "source": [
        ""
      ],
      "execution_count": 839,
      "outputs": []
    },
    {
      "cell_type": "markdown",
      "metadata": {
        "id": "RYuHIrjWKPCu",
        "colab_type": "text"
      },
      "source": [
        "##Data Preprocess"
      ]
    },
    {
      "cell_type": "code",
      "metadata": {
        "id": "PlseyY50Gjf_",
        "colab_type": "code",
        "colab": {}
      },
      "source": [
        "X = train.iloc[:,:-1].values    #Assign x values \n",
        "y = train.iloc[:,-1].values     #Assign y values \n"
      ],
      "execution_count": 22,
      "outputs": []
    },
    {
      "cell_type": "code",
      "metadata": {
        "id": "zAY0zJRrIDUd",
        "colab_type": "code",
        "colab": {}
      },
      "source": [
        "X_train, X_test, y_train, y_test = train_test_split(X, y, test_size=0.2, random_state = 42)  #Split the data to test and train"
      ],
      "execution_count": 23,
      "outputs": []
    },
    {
      "cell_type": "markdown",
      "metadata": {
        "id": "tgQY71p1GbpW",
        "colab_type": "text"
      },
      "source": [
        "##Modelling"
      ]
    },
    {
      "cell_type": "markdown",
      "metadata": {
        "id": "6dXvgS6III9E",
        "colab_type": "text"
      },
      "source": [
        "###Model 1 - Multiple Linear Regression"
      ]
    },
    {
      "cell_type": "markdown",
      "metadata": {
        "id": "jAmRBv6YPwH2",
        "colab_type": "text"
      },
      "source": [
        "platform personal or be pickupday of month pick upday of week pick up time pick up lat and longi destination lati and longi distance temperature "
      ]
    },
    {
      "cell_type": "code",
      "metadata": {
        "id": "LEx50L64GiWW",
        "colab_type": "code",
        "colab": {}
      },
      "source": [
        "mlm = LinearRegression()\n",
        "mlm.fit(X_train,y_train)\n",
        "\n",
        "y_pred_mlm = mlm.predict(X_test)\n",
        "\n",
        "training_rmse_mlm = np.sqrt(mse(y,mlm.predict(X)))\n",
        "validation_rmse_mlm = np.sqrt(mse(y_test,y_pred_mlm))"
      ],
      "execution_count": 24,
      "outputs": []
    },
    {
      "cell_type": "code",
      "metadata": {
        "id": "aM1GzusrKeyM",
        "colab_type": "code",
        "colab": {
          "base_uri": "https://localhost:8080/",
          "height": 52
        },
        "outputId": "7db18a1d-41e2-4f12-b660-a0b28b8e2d26"
      },
      "source": [
        "print(training_rmse_mlm)\n",
        "print(validation_rmse_mlm)"
      ],
      "execution_count": 25,
      "outputs": [
        {
          "output_type": "stream",
          "text": [
            "775.6547062672478\n",
            "774.444240433068\n"
          ],
          "name": "stdout"
        }
      ]
    },
    {
      "cell_type": "markdown",
      "metadata": {
        "id": "bWVyd37PK3mr",
        "colab_type": "text"
      },
      "source": [
        "###Model 2 - Decision  tree"
      ]
    },
    {
      "cell_type": "code",
      "metadata": {
        "id": "opjheJk3LLSv",
        "colab_type": "code",
        "colab": {}
      },
      "source": [
        "dtr = DecisionTreeRegressor(max_depth=7, random_state=42)\n",
        "dtr.fit(X_train,y_train)\n",
        "\n",
        "y_pred_dtr = dtr.predict(X_test)\n",
        "\n",
        "training_rmse_dtr = np.sqrt(mse(y,dtr.predict(X)))\n",
        "validation_rmse_dtr = np.sqrt(mse(y_test,y_pred_dtr))"
      ],
      "execution_count": 27,
      "outputs": []
    },
    {
      "cell_type": "code",
      "metadata": {
        "id": "bzGYPePeLLlo",
        "colab_type": "code",
        "colab": {
          "base_uri": "https://localhost:8080/",
          "height": 52
        },
        "outputId": "1a4a53ec-b055-4c3e-8be9-35b49942a451"
      },
      "source": [
        "print(training_rmse_dtr)\n",
        "print(validation_rmse_dtr)"
      ],
      "execution_count": 28,
      "outputs": [
        {
          "output_type": "stream",
          "text": [
            "749.6801552244298\n",
            "789.2518234134848\n"
          ],
          "name": "stdout"
        }
      ]
    },
    {
      "cell_type": "markdown",
      "metadata": {
        "id": "SNjpBcPdLMgR",
        "colab_type": "text"
      },
      "source": [
        "##Model 3 - Random Forest"
      ]
    },
    {
      "cell_type": "code",
      "metadata": {
        "id": "PzAVu-nkLgQ3",
        "colab_type": "code",
        "colab": {}
      },
      "source": [
        "rfr = RandomForestRegressor(random_state=23)\n",
        "rfr.fit(X_train,y_train)\n",
        "\n",
        "y_pred_rfr = rfr.predict(X_test)\n",
        "\n",
        "training_rmse_rfr = np.sqrt(mse(y,rfr.predict(X)))\n",
        "validation_rmse_rfr = np.sqrt(mse(y_test,y_pred_rfr))"
      ],
      "execution_count": 29,
      "outputs": []
    },
    {
      "cell_type": "code",
      "metadata": {
        "id": "K1CFlzJLLgit",
        "colab_type": "code",
        "colab": {
          "base_uri": "https://localhost:8080/",
          "height": 52
        },
        "outputId": "a115590c-f0d4-4aa8-824a-b87a7c886879"
      },
      "source": [
        "print(training_rmse_rfr)\n",
        "print(validation_rmse_rfr )"
      ],
      "execution_count": 30,
      "outputs": [
        {
          "output_type": "stream",
          "text": [
            "430.9535004816655\n",
            "770.6325301832534\n"
          ],
          "name": "stdout"
        }
      ]
    },
    {
      "cell_type": "markdown",
      "metadata": {
        "id": "IxgEgKbdiXzn",
        "colab_type": "text"
      },
      "source": [
        "Random Adjusted"
      ]
    },
    {
      "cell_type": "code",
      "metadata": {
        "id": "o8-FKgp6LgnP",
        "colab_type": "code",
        "colab": {}
      },
      "source": [
        "rfr_2 = RandomForestRegressor(n_estimators=100, max_depth=10, random_state=23)\n",
        "rfr_2.fit(X_train,y_train)\n",
        "\n",
        "y_pred_rfr_2 = rfr_2.predict(X_test)\n",
        "\n",
        "training_rmse_rfr_2 = np.sqrt(mse(y,rfr_2.predict(X)))\n",
        "validation_rmse_rfr_2 = np.sqrt(mse(y_test,y_pred_rfr_2))"
      ],
      "execution_count": 31,
      "outputs": []
    },
    {
      "cell_type": "code",
      "metadata": {
        "id": "PtcOZeBTjOPI",
        "colab_type": "code",
        "colab": {
          "base_uri": "https://localhost:8080/",
          "height": 52
        },
        "outputId": "89d60fe9-8a33-4b8b-a9f5-686c9013dafc"
      },
      "source": [
        "print(training_rmse_rfr_2)\n",
        "print(validation_rmse_rfr_2)"
      ],
      "execution_count": 32,
      "outputs": [
        {
          "output_type": "stream",
          "text": [
            "666.2196822627648\n",
            "759.3366815998794\n"
          ],
          "name": "stdout"
        }
      ]
    },
    {
      "cell_type": "code",
      "metadata": {
        "id": "SL64vG0_H_Vh",
        "colab_type": "code",
        "colab": {}
      },
      "source": [
        ""
      ],
      "execution_count": 849,
      "outputs": []
    },
    {
      "cell_type": "code",
      "metadata": {
        "id": "C82TUOze7iBf",
        "colab_type": "code",
        "colab": {}
      },
      "source": [
        "rfr_3 = RandomForestRegressor(n_estimators=110, max_depth=7, random_state=23,min_samples_split=6,n_jobs=1)\n",
        "rfr_3.fit(X_train,y_train)\n",
        "\n",
        "y_pred_rfr_3 = rfr_3.predict(X_test)\n",
        "\n",
        "training_rmse_rfr_3 = np.sqrt(mse(y,rfr_3.predict(X)))\n",
        "validation_rmse_rfr_3 = np.sqrt(mse(y_test,y_pred_rfr_3))"
      ],
      "execution_count": 33,
      "outputs": []
    },
    {
      "cell_type": "code",
      "metadata": {
        "id": "54LTMqCZ7iFS",
        "colab_type": "code",
        "colab": {
          "base_uri": "https://localhost:8080/",
          "height": 52
        },
        "outputId": "304b3bfa-dfce-4ada-c877-a04ad5222357"
      },
      "source": [
        "print(training_rmse_rfr_3)\n",
        "print(validation_rmse_rfr_3)"
      ],
      "execution_count": 34,
      "outputs": [
        {
          "output_type": "stream",
          "text": [
            "732.5836843714836\n",
            "760.1389387241258\n"
          ],
          "name": "stdout"
        }
      ]
    },
    {
      "cell_type": "markdown",
      "metadata": {
        "id": "SatwyKr-qMW1",
        "colab_type": "text"
      },
      "source": [
        "##Gradient Boost"
      ]
    },
    {
      "cell_type": "code",
      "metadata": {
        "id": "BIqh4Zn6nEcL",
        "colab_type": "code",
        "colab": {}
      },
      "source": [
        "gbr = GradientBoostingRegressor(n_estimators=100, learning_rate=0.4, max_depth=1, random_state=23)\n",
        "gbr.fit(X_train,y_train)\n",
        "\n",
        "y_pred_gbr = gbr.predict(X_test)\n",
        "\n",
        "training_rmse_gbr = np.sqrt(mse(y,gbr.predict(X)))\n",
        "validation_rmse_gbr = np.sqrt(mse(y_test,y_pred_gbr))"
      ],
      "execution_count": 35,
      "outputs": []
    },
    {
      "cell_type": "code",
      "metadata": {
        "id": "6lAvIo1AnFAh",
        "colab_type": "code",
        "colab": {
          "base_uri": "https://localhost:8080/",
          "height": 52
        },
        "outputId": "30abbe77-8ddb-4f2a-a348-bf0fc3385dfc"
      },
      "source": [
        "print(training_rmse_gbr)\n",
        "print(validation_rmse_gbr)"
      ],
      "execution_count": 36,
      "outputs": [
        {
          "output_type": "stream",
          "text": [
            "760.5481619052524\n",
            "763.940376782966\n"
          ],
          "name": "stdout"
        }
      ]
    },
    {
      "cell_type": "markdown",
      "metadata": {
        "id": "d3GL3nLCqN0o",
        "colab_type": "text"
      },
      "source": [
        "##Stacking Regression"
      ]
    },
    {
      "cell_type": "code",
      "metadata": {
        "id": "UKrtLghoqOWq",
        "colab_type": "code",
        "colab": {}
      },
      "source": [
        "models = [(\"RF2\",rfr_2),(\"RF3\",rfr_3)]\n",
        "\n",
        "meta_learner_reg = LinearRegression()\n",
        "s_reg = StackingRegressor(estimators=models, final_estimator=meta_learner_reg)\n",
        "s_reg.fit(X_train,y_train)\n",
        "\n",
        "y_pred_s_reg = s_reg.predict(X_test)\n",
        "\n",
        "training_rmse_s_reg = np.sqrt(mse(y,s_reg.predict(X)))\n",
        "validation_rmse_s_reg = np.sqrt(mse(y_test,y_pred_s_reg))"
      ],
      "execution_count": 37,
      "outputs": []
    },
    {
      "cell_type": "code",
      "metadata": {
        "colab_type": "code",
        "id": "v3bl8V4OxV0u",
        "colab": {
          "base_uri": "https://localhost:8080/",
          "height": 52
        },
        "outputId": "e0dbf850-e105-432d-8bee-57be5c32d7c6"
      },
      "source": [
        "print(training_rmse_s_reg)\n",
        "print(validation_rmse_s_reg)"
      ],
      "execution_count": 38,
      "outputs": [
        {
          "output_type": "stream",
          "text": [
            "683.3099341990497\n",
            "758.8723055860465\n"
          ],
          "name": "stdout"
        }
      ]
    },
    {
      "cell_type": "code",
      "metadata": {
        "id": "FuylmVgwJmlw",
        "colab_type": "code",
        "colab": {}
      },
      "source": [
        ""
      ],
      "execution_count": 857,
      "outputs": []
    },
    {
      "cell_type": "code",
      "metadata": {
        "colab_type": "code",
        "id": "PItSbgf0xNHG",
        "colab": {}
      },
      "source": [
        "models = [(\"DT\",dtr),(\"RT\",rfr_2)]\n",
        "\n",
        "meta_learner_reg = LinearRegression()\n",
        "s_reg2 = StackingRegressor(estimators=models, final_estimator=meta_learner_reg)\n",
        "s_reg2.fit(X_train,y_train)\n",
        "\n",
        "y_pred_s_reg2 = s_reg2.predict(X_test)\n",
        "\n",
        "training_rmses_reg2 = np.sqrt(mse(y,s_reg2.predict(X)))\n",
        "validation_rmses_reg2 = np.sqrt(mse(y_test,y_pred_s_reg2))"
      ],
      "execution_count": 39,
      "outputs": []
    },
    {
      "cell_type": "code",
      "metadata": {
        "colab_type": "code",
        "id": "1DFsRmCYrZSZ",
        "colab": {
          "base_uri": "https://localhost:8080/",
          "height": 52
        },
        "outputId": "878b0c59-c229-4435-f7ad-67926cedf81f"
      },
      "source": [
        "print(training_rmses_reg2)\n",
        "print(validation_rmses_reg2)"
      ],
      "execution_count": 40,
      "outputs": [
        {
          "output_type": "stream",
          "text": [
            "666.0967822446823\n",
            "759.5292155149439\n"
          ],
          "name": "stdout"
        }
      ]
    },
    {
      "cell_type": "code",
      "metadata": {
        "id": "UaG6pRlPKN51",
        "colab_type": "code",
        "colab": {}
      },
      "source": [
        ""
      ],
      "execution_count": 859,
      "outputs": []
    },
    {
      "cell_type": "markdown",
      "metadata": {
        "id": "70RgLEFP28l-",
        "colab_type": "text"
      },
      "source": [
        "##XG Boost Regression"
      ]
    },
    {
      "cell_type": "code",
      "metadata": {
        "id": "9SwBvcQBKOIh",
        "colab_type": "code",
        "colab": {
          "base_uri": "https://localhost:8080/",
          "height": 34
        },
        "outputId": "e9485f83-b3e3-4057-cf82-79012578c12e"
      },
      "source": [
        "xgb_model = xgb.XGBRegressor(random_state=42,learning_rate=0.2,n_estimators=100,gamma=0,colsample_bytree=0.5)\n",
        "xgb_model.fit(X_train, y_train)\n",
        "\n",
        "y_pred = xgb_model.predict(X_test)\n",
        "\n",
        "training_rmse_xgb = np.sqrt(mse(y,xgb_model.predict(X)))\n",
        "validation_rmse_xgb = np.sqrt(mse(y_test,y_pred))"
      ],
      "execution_count": 43,
      "outputs": [
        {
          "output_type": "stream",
          "text": [
            "[00:43:33] WARNING: /workspace/src/objective/regression_obj.cu:152: reg:linear is now deprecated in favor of reg:squarederror.\n"
          ],
          "name": "stdout"
        }
      ]
    },
    {
      "cell_type": "code",
      "metadata": {
        "id": "7Hf1qiY5KN9f",
        "colab_type": "code",
        "colab": {
          "base_uri": "https://localhost:8080/",
          "height": 52
        },
        "outputId": "7ead8f5b-94f2-4990-8240-7b22c65daf85"
      },
      "source": [
        "print(training_rmse_xgb)\n",
        "print(validation_rmse_xgb)"
      ],
      "execution_count": 45,
      "outputs": [
        {
          "output_type": "stream",
          "text": [
            "730.4641352374734\n",
            "753.3636669999702\n"
          ],
          "name": "stdout"
        }
      ]
    },
    {
      "cell_type": "markdown",
      "metadata": {
        "id": "vNXuftBVU8Xh",
        "colab_type": "text"
      },
      "source": [
        "#Best"
      ]
    },
    {
      "cell_type": "code",
      "metadata": {
        "id": "aJkkIVvTOO_e",
        "colab_type": "code",
        "colab": {
          "base_uri": "https://localhost:8080/",
          "height": 121
        },
        "outputId": "e81a73ad-9a51-408f-f67e-39b2a053d9c4"
      },
      "source": [
        "models = [(\"XB\",xgb_model),(\"RT\",rfr_2)]\n",
        "\n",
        "meta_learner_reg = LinearRegression()\n",
        "s_reg3 = StackingRegressor(estimators=models, final_estimator=meta_learner_reg)\n",
        "s_reg3.fit(X_train,y_train)\n",
        "\n",
        "y_pred_s_reg3 = s_reg3.predict(X_test)\n",
        "\n",
        "training_rmse_s_reg3 = np.sqrt(mse(y,s_reg3.predict(X)))\n",
        "validation_rmse_s_reg3 = np.sqrt(mse(y_test,y_pred_s_reg3))"
      ],
      "execution_count": 47,
      "outputs": [
        {
          "output_type": "stream",
          "text": [
            "[00:46:53] WARNING: /workspace/src/objective/regression_obj.cu:152: reg:linear is now deprecated in favor of reg:squarederror.\n",
            "[00:47:05] WARNING: /workspace/src/objective/regression_obj.cu:152: reg:linear is now deprecated in favor of reg:squarederror.\n",
            "[00:47:06] WARNING: /workspace/src/objective/regression_obj.cu:152: reg:linear is now deprecated in favor of reg:squarederror.\n",
            "[00:47:06] WARNING: /workspace/src/objective/regression_obj.cu:152: reg:linear is now deprecated in favor of reg:squarederror.\n",
            "[00:47:07] WARNING: /workspace/src/objective/regression_obj.cu:152: reg:linear is now deprecated in favor of reg:squarederror.\n",
            "[00:47:08] WARNING: /workspace/src/objective/regression_obj.cu:152: reg:linear is now deprecated in favor of reg:squarederror.\n"
          ],
          "name": "stdout"
        }
      ]
    },
    {
      "cell_type": "code",
      "metadata": {
        "colab_type": "code",
        "id": "KDpR-6S-UN1i",
        "colab": {
          "base_uri": "https://localhost:8080/",
          "height": 52
        },
        "outputId": "6cbbf133-c36c-498a-eba6-7f42afcf28b5"
      },
      "source": [
        "print(training_rmse_s_reg3)\n",
        "print(validation_rmse_s_reg3)"
      ],
      "execution_count": 48,
      "outputs": [
        {
          "output_type": "stream",
          "text": [
            "701.9106973220526\n",
            "751.8686982359307\n"
          ],
          "name": "stdout"
        }
      ]
    },
    {
      "cell_type": "markdown",
      "metadata": {
        "id": "Erv_ogoWbvZe",
        "colab_type": "text"
      },
      "source": [
        "##Testing"
      ]
    },
    {
      "cell_type": "code",
      "metadata": {
        "id": "wUq1rnoKcEvr",
        "colab_type": "code",
        "colab": {
          "base_uri": "https://localhost:8080/",
          "height": 202
        },
        "outputId": "66b572b2-ba17-4b55-aac7-cbf8d10d32d8"
      },
      "source": [
        "samplesubmission.head()"
      ],
      "execution_count": 865,
      "outputs": [
        {
          "output_type": "execute_result",
          "data": {
            "text/html": [
              "<div>\n",
              "<style scoped>\n",
              "    .dataframe tbody tr th:only-of-type {\n",
              "        vertical-align: middle;\n",
              "    }\n",
              "\n",
              "    .dataframe tbody tr th {\n",
              "        vertical-align: top;\n",
              "    }\n",
              "\n",
              "    .dataframe thead th {\n",
              "        text-align: right;\n",
              "    }\n",
              "</style>\n",
              "<table border=\"1\" class=\"dataframe\">\n",
              "  <thead>\n",
              "    <tr style=\"text-align: right;\">\n",
              "      <th></th>\n",
              "      <th>Order_No</th>\n",
              "      <th>Time from Pickup to Arrival</th>\n",
              "    </tr>\n",
              "  </thead>\n",
              "  <tbody>\n",
              "    <tr>\n",
              "      <th>0</th>\n",
              "      <td>Order_No_19248</td>\n",
              "      <td>567.0</td>\n",
              "    </tr>\n",
              "    <tr>\n",
              "      <th>1</th>\n",
              "      <td>Order_No_12736</td>\n",
              "      <td>4903.0</td>\n",
              "    </tr>\n",
              "    <tr>\n",
              "      <th>2</th>\n",
              "      <td>Order_No_768</td>\n",
              "      <td>5649.0</td>\n",
              "    </tr>\n",
              "    <tr>\n",
              "      <th>3</th>\n",
              "      <td>Order_No_15332</td>\n",
              "      <td>NaN</td>\n",
              "    </tr>\n",
              "    <tr>\n",
              "      <th>4</th>\n",
              "      <td>Order_No_21373</td>\n",
              "      <td>NaN</td>\n",
              "    </tr>\n",
              "  </tbody>\n",
              "</table>\n",
              "</div>"
            ],
            "text/plain": [
              "         Order_No  Time from Pickup to Arrival\n",
              "0  Order_No_19248                        567.0\n",
              "1  Order_No_12736                       4903.0\n",
              "2    Order_No_768                       5649.0\n",
              "3  Order_No_15332                          NaN\n",
              "4  Order_No_21373                          NaN"
            ]
          },
          "metadata": {
            "tags": []
          },
          "execution_count": 865
        }
      ]
    },
    {
      "cell_type": "code",
      "metadata": {
        "id": "fI3d6jLIb6Us",
        "colab_type": "code",
        "colab": {}
      },
      "source": [
        "samplesubmission['Time from Pickup to Arrival'] = xgb_model.predict(test.values)"
      ],
      "execution_count": 51,
      "outputs": []
    },
    {
      "cell_type": "code",
      "metadata": {
        "id": "WaGKvHCqdSwn",
        "colab_type": "code",
        "colab": {}
      },
      "source": [
        "samplesubmission.to_csv('tk22.csv',index=False)"
      ],
      "execution_count": 52,
      "outputs": []
    },
    {
      "cell_type": "code",
      "metadata": {
        "id": "obO77hlZduVE",
        "colab_type": "code",
        "colab": {
          "base_uri": "https://localhost:8080/",
          "height": 202
        },
        "outputId": "ba31ad25-dff8-4280-80ee-a5f06c70e511"
      },
      "source": [
        "pd.read_csv('tk21.csv').head()"
      ],
      "execution_count": 868,
      "outputs": [
        {
          "output_type": "execute_result",
          "data": {
            "text/html": [
              "<div>\n",
              "<style scoped>\n",
              "    .dataframe tbody tr th:only-of-type {\n",
              "        vertical-align: middle;\n",
              "    }\n",
              "\n",
              "    .dataframe tbody tr th {\n",
              "        vertical-align: top;\n",
              "    }\n",
              "\n",
              "    .dataframe thead th {\n",
              "        text-align: right;\n",
              "    }\n",
              "</style>\n",
              "<table border=\"1\" class=\"dataframe\">\n",
              "  <thead>\n",
              "    <tr style=\"text-align: right;\">\n",
              "      <th></th>\n",
              "      <th>Order_No</th>\n",
              "      <th>Time from Pickup to Arrival</th>\n",
              "    </tr>\n",
              "  </thead>\n",
              "  <tbody>\n",
              "    <tr>\n",
              "      <th>0</th>\n",
              "      <td>Order_No_19248</td>\n",
              "      <td>1716.085465</td>\n",
              "    </tr>\n",
              "    <tr>\n",
              "      <th>1</th>\n",
              "      <td>Order_No_12736</td>\n",
              "      <td>1365.777183</td>\n",
              "    </tr>\n",
              "    <tr>\n",
              "      <th>2</th>\n",
              "      <td>Order_No_768</td>\n",
              "      <td>1295.199675</td>\n",
              "    </tr>\n",
              "    <tr>\n",
              "      <th>3</th>\n",
              "      <td>Order_No_15332</td>\n",
              "      <td>1254.014534</td>\n",
              "    </tr>\n",
              "    <tr>\n",
              "      <th>4</th>\n",
              "      <td>Order_No_21373</td>\n",
              "      <td>1223.145117</td>\n",
              "    </tr>\n",
              "  </tbody>\n",
              "</table>\n",
              "</div>"
            ],
            "text/plain": [
              "         Order_No  Time from Pickup to Arrival\n",
              "0  Order_No_19248                  1716.085465\n",
              "1  Order_No_12736                  1365.777183\n",
              "2    Order_No_768                  1295.199675\n",
              "3  Order_No_15332                  1254.014534\n",
              "4  Order_No_21373                  1223.145117"
            ]
          },
          "metadata": {
            "tags": []
          },
          "execution_count": 868
        }
      ]
    },
    {
      "cell_type": "code",
      "metadata": {
        "id": "nkoNmYaHuLVt",
        "colab_type": "code",
        "colab": {
          "base_uri": "https://localhost:8080/",
          "height": 234
        },
        "outputId": "4b9dc016-7eab-4887-d863-7e7f3f5a0822"
      },
      "source": [
        "training_rmse = [training_rmse_mlm, training_rmse_dtr, training_rmse_rfr_2, training_rmse_gbr, training_rmse_s_reg, training_rmse_xgb]\n",
        "validation_rmse = [validation_rmse_mlm, validation_rmse_dtr, validation_rmse_rfr_2, validation_rmse_gbr, validation_rmse_s_reg, validation_rmse_xgb]\n",
        "index = ['Linear Regression', 'Decision Tree', 'Random Forest',\n",
        "         'Gradient Boost', 'Stacking Regression', 'XG Boost Regression']\n",
        "df = pd.DataFrame({'Training RMSE': training_rmse,\n",
        "                   'Validation RMSE': validation_rmse}, index=index)\n",
        "ax = df.plot.bar(rot=0, figsize=(20,8))\n",
        "plt.title(\"RMSE vs Regression Types\",fontsize=20)\n",
        "plt.xlabel(\"Regression Type\",fontsize=15)\n",
        "plt.ylabel(\"RSME\",fontsize=15)\n",
        "plt.show()"
      ],
      "execution_count": 1,
      "outputs": [
        {
          "output_type": "error",
          "ename": "NameError",
          "evalue": "ignored",
          "traceback": [
            "\u001b[0;31m---------------------------------------------------------------------------\u001b[0m",
            "\u001b[0;31mNameError\u001b[0m                                 Traceback (most recent call last)",
            "\u001b[0;32m<ipython-input-1-9ab29abc1f05>\u001b[0m in \u001b[0;36m<module>\u001b[0;34m()\u001b[0m\n\u001b[0;32m----> 1\u001b[0;31m \u001b[0mtraining_rmse\u001b[0m \u001b[0;34m=\u001b[0m \u001b[0;34m[\u001b[0m\u001b[0mtraining_rmse_mlm\u001b[0m\u001b[0;34m,\u001b[0m \u001b[0mtraining_rmse_dtr\u001b[0m\u001b[0;34m,\u001b[0m \u001b[0mtraining_rmse_rfr_2\u001b[0m\u001b[0;34m,\u001b[0m \u001b[0mtraining_rmse_gbr\u001b[0m\u001b[0;34m,\u001b[0m \u001b[0mtraining_rmse_s_reg\u001b[0m\u001b[0;34m,\u001b[0m \u001b[0mtraining_rmse_xgb\u001b[0m\u001b[0;34m]\u001b[0m\u001b[0;34m\u001b[0m\u001b[0;34m\u001b[0m\u001b[0m\n\u001b[0m\u001b[1;32m      2\u001b[0m \u001b[0mvalidation_rmse\u001b[0m \u001b[0;34m=\u001b[0m \u001b[0;34m[\u001b[0m\u001b[0mvalidation_rmse_mlm\u001b[0m\u001b[0;34m,\u001b[0m \u001b[0mvalidation_rmse_dtr\u001b[0m\u001b[0;34m,\u001b[0m \u001b[0mvalidation_rmse_rfr_2\u001b[0m\u001b[0;34m,\u001b[0m \u001b[0mvalidation_rmse_gbr\u001b[0m\u001b[0;34m,\u001b[0m \u001b[0mvalidation_rmse_s_reg\u001b[0m\u001b[0;34m,\u001b[0m \u001b[0mvalidation_rmse_xgb\u001b[0m\u001b[0;34m]\u001b[0m\u001b[0;34m\u001b[0m\u001b[0;34m\u001b[0m\u001b[0m\n\u001b[1;32m      3\u001b[0m index = ['Linear Regression', 'Decision Tree', 'Random Forest',\n\u001b[1;32m      4\u001b[0m          'Gradient Boost', 'Stacking Regression', 'XG Boost Regression']\n\u001b[1;32m      5\u001b[0m df = pd.DataFrame({'Training RMSE': training_rmse,\n",
            "\u001b[0;31mNameError\u001b[0m: name 'training_rmse_mlm' is not defined"
          ]
        }
      ]
    }
  ]
}