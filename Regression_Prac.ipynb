{
  "nbformat": 4,
  "nbformat_minor": 0,
  "metadata": {
    "kernelspec": {
      "display_name": "Python 3",
      "language": "python",
      "name": "python3"
    },
    "language_info": {
      "codemirror_mode": {
        "name": "ipython",
        "version": 3
      },
      "file_extension": ".py",
      "mimetype": "text/x-python",
      "name": "python",
      "nbconvert_exporter": "python",
      "pygments_lexer": "ipython3",
      "version": "3.7.3"
    },
    "colab": {
      "name": "Regression_Prac_Exam_Student_Version.ipynb",
      "provenance": [],
      "toc_visible": true,
      "include_colab_link": true
    }
  },
  "cells": [
    {
      "cell_type": "markdown",
      "metadata": {
        "id": "view-in-github",
        "colab_type": "text"
      },
      "source": [
        "<a href=\"https://colab.research.google.com/github/Tokelo22/My-Package/blob/master/Regression_Prac.ipynb\" target=\"_parent\"><img src=\"https://colab.research.google.com/assets/colab-badge.svg\" alt=\"Open In Colab\"/></a>"
      ]
    },
    {
      "cell_type": "markdown",
      "metadata": {
        "id": "_cIsrIOEy9BM",
        "colab_type": "text"
      },
      "source": [
        "# Regression Practical Assessment\n",
        "This assessment is for determining how much you have learnt in the past sprint, the results of which will be used to determine how EDSA can best prepare you for the working world. This assessment consists of and practical questions in Regression.\n",
        "\n",
        "The answers for this test will be input into Athena as Multiple Choice Questions. The questions are included in this notebook and are made **bold** and numbered according to the Athena Questions.\n",
        "\n",
        "As this is a time-constrained assessment, if you are struggling with a question, rather move on to a task you are better prepared to answer rather than spending unnecessary time on one question.\n",
        "\n",
        "**_Good Luck!_**"
      ]
    },
    {
      "cell_type": "markdown",
      "metadata": {
        "id": "NQJaOUYuy9BN",
        "colab_type": "text"
      },
      "source": [
        "## Honour Code\n",
        "I **YOUR NAME, YOUR SURNAME**, confirm - by submitting this document - that the solutions in this notebook are a result of my own work and that I abide by the EDSA honour code (https://drive.google.com/file/d/1QDCjGZJ8-FmJE3bZdIQNwnJyQKPhHZBn/view?usp=sharing).  \n",
        "\n",
        "Non-compliance with the honour code constitutes a material breach of contract."
      ]
    },
    {
      "cell_type": "markdown",
      "metadata": {
        "id": "jcHXZEY6y9BO",
        "colab_type": "text"
      },
      "source": [
        "### Download the data\n",
        "\n",
        "Download the Notebook and data files here: https://raw.githubusercontent.com/Explore-AI/Public-Data/master/Data/Machine_Learning_Assessment.zip\n",
        "\n",
        "### Imports"
      ]
    },
    {
      "cell_type": "code",
      "metadata": {
        "id": "qkpa8JKSy9BO",
        "colab_type": "code",
        "colab": {}
      },
      "source": [
        "import numpy as np\n",
        "import pandas as pd\n",
        "\n",
        "from sklearn import preprocessing\n",
        "from sklearn.model_selection import train_test_split\n",
        "\n",
        "from sklearn.linear_model import LinearRegression\n",
        "from sklearn.tree import DecisionTreeRegressor"
      ],
      "execution_count": 2,
      "outputs": []
    },
    {
      "cell_type": "markdown",
      "metadata": {
        "id": "8UpFoMzAy9BS",
        "colab_type": "text"
      },
      "source": [
        "### Reading in the data\n",
        "For this assessment we will be using a dataset about the quality of wine. Read in the data and take a look at it.\n",
        "\n",
        "**Note** the feature we will be predicting is quality, i.e. the label is quality."
      ]
    },
    {
      "cell_type": "code",
      "metadata": {
        "id": "KQxze14ry9BS",
        "colab_type": "code",
        "colab": {
          "base_uri": "https://localhost:8080/",
          "height": 204
        },
        "outputId": "b11aee68-44c2-4953-a55e-3ac9a6a9e02f"
      },
      "source": [
        "df = pd.read_csv('winequality.csv')\n",
        "df.head()"
      ],
      "execution_count": 4,
      "outputs": [
        {
          "output_type": "execute_result",
          "data": {
            "text/html": [
              "<div>\n",
              "<style scoped>\n",
              "    .dataframe tbody tr th:only-of-type {\n",
              "        vertical-align: middle;\n",
              "    }\n",
              "\n",
              "    .dataframe tbody tr th {\n",
              "        vertical-align: top;\n",
              "    }\n",
              "\n",
              "    .dataframe thead th {\n",
              "        text-align: right;\n",
              "    }\n",
              "</style>\n",
              "<table border=\"1\" class=\"dataframe\">\n",
              "  <thead>\n",
              "    <tr style=\"text-align: right;\">\n",
              "      <th></th>\n",
              "      <th>type</th>\n",
              "      <th>fixed acidity</th>\n",
              "      <th>volatile acidity</th>\n",
              "      <th>citric acid</th>\n",
              "      <th>residual sugar</th>\n",
              "      <th>chlorides</th>\n",
              "      <th>free sulfur dioxide</th>\n",
              "      <th>total sulfur dioxide</th>\n",
              "      <th>density</th>\n",
              "      <th>pH</th>\n",
              "      <th>sulphates</th>\n",
              "      <th>alcohol</th>\n",
              "      <th>quality</th>\n",
              "    </tr>\n",
              "  </thead>\n",
              "  <tbody>\n",
              "    <tr>\n",
              "      <th>0</th>\n",
              "      <td>0</td>\n",
              "      <td>7.0</td>\n",
              "      <td>0.27</td>\n",
              "      <td>0.36</td>\n",
              "      <td>20.7</td>\n",
              "      <td>0.045</td>\n",
              "      <td>45.0</td>\n",
              "      <td>170.0</td>\n",
              "      <td>1.0010</td>\n",
              "      <td>3.00</td>\n",
              "      <td>0.45</td>\n",
              "      <td>8.8</td>\n",
              "      <td>6</td>\n",
              "    </tr>\n",
              "    <tr>\n",
              "      <th>1</th>\n",
              "      <td>0</td>\n",
              "      <td>6.3</td>\n",
              "      <td>0.30</td>\n",
              "      <td>0.34</td>\n",
              "      <td>1.6</td>\n",
              "      <td>0.049</td>\n",
              "      <td>14.0</td>\n",
              "      <td>132.0</td>\n",
              "      <td>0.9940</td>\n",
              "      <td>3.30</td>\n",
              "      <td>0.49</td>\n",
              "      <td>9.5</td>\n",
              "      <td>6</td>\n",
              "    </tr>\n",
              "    <tr>\n",
              "      <th>2</th>\n",
              "      <td>0</td>\n",
              "      <td>8.1</td>\n",
              "      <td>0.28</td>\n",
              "      <td>0.40</td>\n",
              "      <td>6.9</td>\n",
              "      <td>0.050</td>\n",
              "      <td>30.0</td>\n",
              "      <td>97.0</td>\n",
              "      <td>0.9951</td>\n",
              "      <td>3.26</td>\n",
              "      <td>0.44</td>\n",
              "      <td>10.1</td>\n",
              "      <td>6</td>\n",
              "    </tr>\n",
              "    <tr>\n",
              "      <th>3</th>\n",
              "      <td>0</td>\n",
              "      <td>7.2</td>\n",
              "      <td>0.23</td>\n",
              "      <td>0.32</td>\n",
              "      <td>8.5</td>\n",
              "      <td>0.058</td>\n",
              "      <td>47.0</td>\n",
              "      <td>186.0</td>\n",
              "      <td>0.9956</td>\n",
              "      <td>3.19</td>\n",
              "      <td>0.40</td>\n",
              "      <td>9.9</td>\n",
              "      <td>6</td>\n",
              "    </tr>\n",
              "    <tr>\n",
              "      <th>4</th>\n",
              "      <td>0</td>\n",
              "      <td>7.2</td>\n",
              "      <td>0.23</td>\n",
              "      <td>0.32</td>\n",
              "      <td>8.5</td>\n",
              "      <td>0.058</td>\n",
              "      <td>47.0</td>\n",
              "      <td>186.0</td>\n",
              "      <td>0.9956</td>\n",
              "      <td>3.19</td>\n",
              "      <td>0.40</td>\n",
              "      <td>9.9</td>\n",
              "      <td>6</td>\n",
              "    </tr>\n",
              "  </tbody>\n",
              "</table>\n",
              "</div>"
            ],
            "text/plain": [
              "   type  fixed acidity  volatile acidity  ...  sulphates  alcohol  quality\n",
              "0     0            7.0              0.27  ...       0.45      8.8        6\n",
              "1     0            6.3              0.30  ...       0.49      9.5        6\n",
              "2     0            8.1              0.28  ...       0.44     10.1        6\n",
              "3     0            7.2              0.23  ...       0.40      9.9        6\n",
              "4     0            7.2              0.23  ...       0.40      9.9        6\n",
              "\n",
              "[5 rows x 13 columns]"
            ]
          },
          "metadata": {
            "tags": []
          },
          "execution_count": 4
        }
      ]
    },
    {
      "cell_type": "markdown",
      "metadata": {
        "id": "G6O5ex8Ny9BV",
        "colab_type": "text"
      },
      "source": [
        "## Task 1 - Data pre-processing\n",
        "\n",
        "Write a function to pre-process the data so that we can run it through the classifier. The function should:\n",
        "* Split the data into features and labels\n",
        "* Standardise the features using sklearn's ```StandardScaler```\n",
        "* Split the data into 75% training and 25% testing data\n",
        "* Set random_state to equal 16 for this internal method\n",
        "* If there are any NAN values, fill them with zeros\n",
        "\n",
        "_**Function Specifications:**_\n",
        "* Should take a dataframe as input.\n",
        "* Should return two `tuples` of the form `(X_train, y_train), (X_test, y_test)`.\n",
        "\n",
        "**Note: be sure to pay attention to the test size and random state you use as the following questions assume you split the data correctly**"
      ]
    },
    {
      "cell_type": "code",
      "metadata": {
        "id": "S2N-xdxly9BV",
        "colab_type": "code",
        "colab": {}
      },
      "source": [
        "def data_preprocess(df):\n",
        "    #your code here\n",
        "    from sklearn.preprocessing import StandardScaler\n",
        "    df = df.fillna(0)  #Replace Nan values with zeros\n",
        "\n",
        "    scaler = StandardScaler()    #Calling the Standard scaler function\n",
        "    y = df.iloc[:,-1].values     #Assign y values to equal the quality \n",
        "    X = df.iloc[:,:-1].values    #Assign x values to equal the other variables \n",
        "    X = scaler.fit_transform(X)  #Standardize the X values \n",
        "\n",
        "    X_train, X_test, y_train, y_test = train_test_split(X, y, test_size=0.25, random_state = 16)  #Split the data to test and train\n",
        "    return (X_train, y_train), (X_test, y_test)"
      ],
      "execution_count": 5,
      "outputs": []
    },
    {
      "cell_type": "code",
      "metadata": {
        "id": "Yc-hL2sHy9BY",
        "colab_type": "code",
        "colab": {
          "base_uri": "https://localhost:8080/",
          "height": 119
        },
        "outputId": "8391ba0e-0b06-463f-bb10-350ab7446263"
      },
      "source": [
        "(X_train, y_train), (X_test, y_test) = data_preprocess(df)\n",
        "print(X_train[0])\n",
        "print(y_train[0])\n",
        "print(X_test[3])\n",
        "print(y_test[3])"
      ],
      "execution_count": 6,
      "outputs": [
        {
          "output_type": "stream",
          "text": [
            "[ 1.75018984 -0.00412596  0.12564592  0.97278786 -0.70253493  0.51297929\n",
            " -0.36766435 -1.26942219  0.21456681  0.92881824  2.13682458  0.42611996]\n",
            "7\n",
            "[-0.57136659 -0.30574457 -0.54115965 -0.12776549  1.33614333 -0.37168026\n",
            "  1.26631947  0.30531117  0.18121615 -0.91820734  0.32886116 -0.07697409]\n",
            "6\n"
          ],
          "name": "stdout"
        }
      ]
    },
    {
      "cell_type": "code",
      "metadata": {
        "id": "456DGh6WQWpZ",
        "colab_type": "code",
        "colab": {
          "base_uri": "https://localhost:8080/",
          "height": 238
        },
        "outputId": "9f85eb5a-1bc8-411f-adee-1efcf2293f24"
      },
      "source": [
        "X_train"
      ],
      "execution_count": 88,
      "outputs": [
        {
          "output_type": "execute_result",
          "data": {
            "text/plain": [
              "array([[ 1.75018984, -0.00412596,  0.12564592, ...,  0.92881824,\n",
              "         2.13682458,  0.42611996],\n",
              "       [-0.57136659,  0.29749266,  0.03471789, ..., -0.66860929,\n",
              "        -1.01037099, -0.83161516],\n",
              "       [-0.57136659, -0.9089818 , -0.35930358, ..., -0.36909163,\n",
              "        -0.2068317 , -1.2508602 ],\n",
              "       ...,\n",
              "       [-0.57136659,  0.07127869,  0.30750199, ...,  0.87889863,\n",
              "        -0.34075491,  1.85155309],\n",
              "       [-0.57136659, -1.13519576, -0.96549047, ...,  0.67922019,\n",
              "        -0.94340939, -0.91546416],\n",
              "       [-0.57136659,  0.14668335, -0.90487178, ..., -0.36909163,\n",
              "        -0.27379331, -1.16701119]])"
            ]
          },
          "metadata": {
            "tags": []
          },
          "execution_count": 88
        }
      ]
    },
    {
      "cell_type": "code",
      "metadata": {
        "id": "J8kZAMC3LqyZ",
        "colab_type": "code",
        "colab": {
          "base_uri": "https://localhost:8080/",
          "height": 34
        },
        "outputId": "75194109-3355-4d9e-dbc1-2b5096899161"
      },
      "source": [
        "print(X_test[12,5])"
      ],
      "execution_count": 95,
      "outputs": [
        {
          "output_type": "stream",
          "text": [
            "-0.17191842758365714\n"
          ],
          "name": "stdout"
        }
      ]
    },
    {
      "cell_type": "code",
      "metadata": {
        "id": "vxjqntDsMTYg",
        "colab_type": "code",
        "colab": {
          "base_uri": "https://localhost:8080/",
          "height": 34
        },
        "outputId": "860370b0-e501-4eed-cf38-18247c60f6ce"
      },
      "source": [
        "print(y_test[15])"
      ],
      "execution_count": 72,
      "outputs": [
        {
          "output_type": "stream",
          "text": [
            "5\n"
          ],
          "name": "stdout"
        }
      ]
    },
    {
      "cell_type": "markdown",
      "metadata": {
        "id": "n83hpXs0y9Ba",
        "colab_type": "text"
      },
      "source": [
        "_**Expected Outputs:**_\n",
        "\n",
        "```python\n",
        "(X_train, y_train), (X_test, y_test) = data_preprocess(df)\n",
        "print(X_train[0])\n",
        "print(y_train[0])\n",
        "print(X_test[3])\n",
        "print(y_test[3])\n",
        "\n",
        "[ 1.75018984 -0.00412596  0.12564592  0.97278786 -0.70253493  0.51297929\n",
        " -0.36766435 -1.26942219  0.21456681  0.92881824  2.13682458  0.42611996]\n",
        "7\n",
        "[-0.57136659 -0.30574457 -0.54115965 -0.12776549  1.33614333 -0.37168026\n",
        "  1.26631947  0.30531117  0.18121615 -0.91820734  0.32886116 -0.07697409]\n",
        "6\n",
        "\n",
        "```"
      ]
    },
    {
      "cell_type": "markdown",
      "metadata": {
        "id": "j88P4xtly9Ba",
        "colab_type": "text"
      },
      "source": [
        "**Q11. What is the result of printing out the 6th column and the 13th row of X_train?**\n",
        "\n",
        "**Q12. What is the result of printing out 6th column and the 13th row of X_test?**\n",
        "\n",
        "**Q13. What is the result of printing out the 16th row y_train?**\n",
        "\n",
        "**Q14. What is the result of printing out the 16th row of y_test?**"
      ]
    },
    {
      "cell_type": "markdown",
      "metadata": {
        "id": "Lch3dHSVy9Ba",
        "colab_type": "text"
      },
      "source": [
        "## Task 2 - Train Linear Regression Model\n",
        "\n",
        "Since this dataset is about predicting quality, which ranges from 1 to 10, lets try fit the data to a regression model and see how well that performs.\n",
        "\n",
        "Fit a model using sklearn's `LinearRegression` class with its default parameters. Write a function that will take as input `(X_train, y_train)` that we created previously, and return a trained model.\n",
        "\n",
        "_**Function Specifications:**_\n",
        "* Should take two numpy `arrays` as input in the form `(X_train, y_train)`.\n",
        "* Should return an sklearn `LinearRegression` model.\n",
        "* The returned model should be fitted to the data."
      ]
    },
    {
      "cell_type": "code",
      "metadata": {
        "id": "BzkqCsjWy9Bb",
        "colab_type": "code",
        "colab": {}
      },
      "source": [
        "def train_model(X_train, y_train):\n",
        "    #your code here\n",
        "    lm = LinearRegression()\n",
        "    return lm.fit(X_train, y_train)"
      ],
      "execution_count": 49,
      "outputs": []
    },
    {
      "cell_type": "code",
      "metadata": {
        "id": "uPG6rh-oPUTf",
        "colab_type": "code",
        "colab": {
          "base_uri": "https://localhost:8080/",
          "height": 34
        },
        "outputId": "7acb6638-3306-45b0-8704-53384695ead8"
      },
      "source": [
        "round(train_model(X_train, y_train).intercept_,3)"
      ],
      "execution_count": 50,
      "outputs": [
        {
          "output_type": "execute_result",
          "data": {
            "text/plain": [
              "5.821"
            ]
          },
          "metadata": {
            "tags": []
          },
          "execution_count": 50
        }
      ]
    },
    {
      "cell_type": "code",
      "metadata": {
        "id": "TKg4upDVQOXl",
        "colab_type": "code",
        "colab": {
          "base_uri": "https://localhost:8080/",
          "height": 34
        },
        "outputId": "1763ed20-1618-451b-873b-0b64284e00a1"
      },
      "source": [
        "round(train_model(X_train, y_train).coef_[2],2)"
      ],
      "execution_count": 52,
      "outputs": [
        {
          "output_type": "execute_result",
          "data": {
            "text/plain": [
              "-0.26"
            ]
          },
          "metadata": {
            "tags": []
          },
          "execution_count": 52
        }
      ]
    },
    {
      "cell_type": "markdown",
      "metadata": {
        "id": "GxYX0kz0y9Bf",
        "colab_type": "text"
      },
      "source": [
        "**Q15. What is the result of printing out ***model.intercept_*** for the fitted model rounded to 3 decimal places?**\n",
        "\n",
        "**Q16. What is the result of printing out ***model.coef_[2]*** for the fitted model rounded to 2 decimal places?**"
      ]
    },
    {
      "cell_type": "markdown",
      "metadata": {
        "id": "BQtqsiqoy9Bg",
        "colab_type": "text"
      },
      "source": [
        "## Task 3 - Test Regression Model\n",
        "\n",
        "We would now like to test our regression model. This test should give the residual sum of squares, which for your convenience is written as\n",
        "$$\n",
        "RSS = \\sum_{i=1}^N (p_i - y_i)^2,\n",
        "$$\n",
        "where $p_i$ refers to the $i^{\\rm th}$ prediction made from `X_test`, $y_i$ refers to the $i^{\\rm th}$ value in `y_test`, and $N$ is the length of `y_test`.\n",
        "\n",
        "_**Function Specifications:**_\n",
        "* Should take a trained model and two `arrays` as input. This will be the `X_test` and `y_test` variables. \n",
        "* Should return the residual sum of squares over the input from the predicted values of `X_test` as compared to values of `y_test`.\n",
        "* The output should be a `float` rounded to 2 decimal places."
      ]
    },
    {
      "cell_type": "code",
      "metadata": {
        "id": "E6v3yDG9y9Bg",
        "colab_type": "code",
        "colab": {}
      },
      "source": [
        "def test_model(model, X_test, y_test):\n",
        "    #your code here\n",
        "    predictions = model.predict(X_test) \n",
        "    rss = np.sum(np.square(y_test-predictions))\n",
        "    return round(rss,2)"
      ],
      "execution_count": 60,
      "outputs": []
    },
    {
      "cell_type": "code",
      "metadata": {
        "id": "eb7GCBjwy9Bi",
        "colab_type": "code",
        "colab": {
          "base_uri": "https://localhost:8080/",
          "height": 34
        },
        "outputId": "e4f5e6ab-e50b-4c7d-c9d0-e27a9d242846"
      },
      "source": [
        "test_model(lm, X_test, y_test)"
      ],
      "execution_count": 61,
      "outputs": [
        {
          "output_type": "execute_result",
          "data": {
            "text/plain": [
              "882.3"
            ]
          },
          "metadata": {
            "tags": []
          },
          "execution_count": 61
        }
      ]
    },
    {
      "cell_type": "markdown",
      "metadata": {
        "id": "FacRnboFy9Bk",
        "colab_type": "text"
      },
      "source": [
        "**Q17. What is the Residual Sum of Squares value for the fitted Linear Regression Model on the test set?**"
      ]
    },
    {
      "cell_type": "markdown",
      "metadata": {
        "id": "APVYj954y9Bl",
        "colab_type": "text"
      },
      "source": [
        "## Task 4 - Train Decision Tree Regresson Model\n",
        "\n",
        "Let us try improve this accuracy by training a model using sklearn's `DecisionTreeRegressor` class with a random state value of 42. Write a function that will take as input `(X_train, y_train)` that we created previously, and return a trained model.\n",
        "\n",
        "_**Function Specifications:**_\n",
        "* Should take two numpy `arrays` as input in the form `(X_train, y_train)`.\n",
        "* Should return an sklearn `DecisionTreeRegressor` model with a random state value of 42.\n",
        "* The returned model should be fitted to the data."
      ]
    },
    {
      "cell_type": "code",
      "metadata": {
        "id": "CZXBFxKty9Bl",
        "colab_type": "code",
        "colab": {}
      },
      "source": [
        "def train_dt_model(X_train, y_train):\n",
        "    #your code here\n",
        "    dt = DecisionTreeRegressor(random_state=42)\n",
        "    return dt.fit(X_train, y_train)"
      ],
      "execution_count": 62,
      "outputs": []
    },
    {
      "cell_type": "code",
      "metadata": {
        "id": "vi89oED6Zfqc",
        "colab_type": "code",
        "colab": {}
      },
      "source": [
        "dt = train_dt_model(X_train, y_train)"
      ],
      "execution_count": 66,
      "outputs": []
    },
    {
      "cell_type": "markdown",
      "metadata": {
        "id": "Jdsi5Rg-y9Bq",
        "colab_type": "text"
      },
      "source": [
        "Now that you have trained your model, lets see how well it does on the test set. Use the test_reg_model function you previously created to do this."
      ]
    },
    {
      "cell_type": "code",
      "metadata": {
        "id": "q_RoXmozy9Bq",
        "colab_type": "code",
        "colab": {
          "base_uri": "https://localhost:8080/",
          "height": 34
        },
        "outputId": "41d4b068-4361-4193-ce9e-d747e7cd162a"
      },
      "source": [
        "test_model(dt, X_test, y_test)"
      ],
      "execution_count": 68,
      "outputs": [
        {
          "output_type": "execute_result",
          "data": {
            "text/plain": [
              "1113.0"
            ]
          },
          "metadata": {
            "tags": []
          },
          "execution_count": 68
        }
      ]
    },
    {
      "cell_type": "markdown",
      "metadata": {
        "id": "FOzpkC8dy9Bs",
        "colab_type": "text"
      },
      "source": [
        "**Q18. What is the Residual Sum of Squares value for the fitted Decision Tree Regression Model on the test set?**"
      ]
    },
    {
      "cell_type": "markdown",
      "metadata": {
        "id": "khaqCli0y9Bs",
        "colab_type": "text"
      },
      "source": [
        "## Task 5 - Mean Absolute Error\n",
        "Write a function to compute the Mean Absolute Error (MAE), which is given by:\n",
        "\n",
        "$$\n",
        "MAE = \\frac{1}{N} \\sum_{n=i}^N |p_i - y_i|\n",
        "$$\n",
        "\n",
        "where $p_i$ refers to the $i^{\\rm th}$ `prediction`, $y_i$ refers to the $i^{\\rm th}$ value in `y_test`, and $N$ is the length of `y_test`.\n",
        "\n",
        "_**Function Specifications:**_\n",
        "* Should take two `arrays` as input. You can think of these as the `predictions` and `y_test` variables you get when testing a model. \n",
        "* Should return the mean absolute error over the input from the predicted values of `X_test` as compared to values of `y_test`.\n",
        "* The output should be a `float` rounded to 3 decimal places."
      ]
    },
    {
      "cell_type": "code",
      "metadata": {
        "id": "Y2PkMoIgy9Bt",
        "colab_type": "code",
        "colab": {}
      },
      "source": [
        "def mean_abs_err(predictions, y_test):\n",
        "    #your code here\n",
        "    \n",
        "    return"
      ],
      "execution_count": null,
      "outputs": []
    },
    {
      "cell_type": "code",
      "metadata": {
        "id": "PwnZgEaHy9Bv",
        "colab_type": "code",
        "colab": {}
      },
      "source": [
        "print(mean_abs_err(np.array([7.5,7,1.2]),np.array([3.2,2,-2])))"
      ],
      "execution_count": null,
      "outputs": []
    },
    {
      "cell_type": "markdown",
      "metadata": {
        "id": "sgFwz-eby9Bx",
        "colab_type": "text"
      },
      "source": [
        "**Q9. What is the result of printing out mean_abs_err(np.array([7.5,7,1.2]),np.array([3.2,2,-2]))?**"
      ]
    },
    {
      "cell_type": "code",
      "metadata": {
        "id": "XBg9P79jy9Bx",
        "colab_type": "code",
        "colab": {}
      },
      "source": [
        ""
      ],
      "execution_count": null,
      "outputs": []
    },
    {
      "cell_type": "markdown",
      "metadata": {
        "id": "zRDTzm2-y9Bz",
        "colab_type": "text"
      },
      "source": [
        "**Q10. Which regression model (Linear vs DecisionTree) has the lowest Mean Absolute error?**"
      ]
    },
    {
      "cell_type": "code",
      "metadata": {
        "id": "GxzZdpyMy9Bz",
        "colab_type": "code",
        "colab": {}
      },
      "source": [
        ""
      ],
      "execution_count": null,
      "outputs": []
    }
  ]
}